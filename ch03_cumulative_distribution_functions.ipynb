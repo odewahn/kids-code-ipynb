{
  "metadata": {
    "name": "Cumulative Distribution Functions"
  },
  "nbformat": 3,
  "nbformat_minor": 0,
  "worksheets": [
    {
      "cells": [
        {
          "cell_type": "heading",
          "level": 1,
          "metadata": {
          },
          "source": "Cumulative Distribution Functions"
        },
        {
          "cell_type": "markdown",
          "metadata": {
          },
          "source": "\n\n\n\n\n\n\n\n"
        },
        {
          "cell_type": "heading",
          "level": 2,
          "metadata": {
          },
          "source": "The Class Size Paradox"
        },
        {
          "cell_type": "markdown",
          "metadata": {
          },
          "source": "\n\n"
        },
        {
          "cell_type": "markdown",
          "metadata": {
          },
          "source": "<p>At many American colleges and universities, the student-to-faculty ratio is about 10:1. But students are often surprised to discover that their average class size is bigger than 10. There are two reasons for the discrepancy:</p>"
        },
        {
          "cell_type": "markdown",
          "metadata": {
          },
          "source": "\n"
        },
        {
          "cell_type": "markdown",
          "metadata": {
          },
          "source": "<ul>\n<li>\n<p>Students typically take 4–5 classes per semester, but professors often teach 1 or 2.</p>\n</li>\n<li>\n<p>The number of students who enjoy a small class is small, but the number of students in a large class is (ahem!) large.</p>\n</li>\n</ul>\n"
        },
        {
          "cell_type": "markdown",
          "metadata": {
          },
          "source": "<p>The first effect is obvious (at least once it is pointed out); the second is more subtle. So let’s look at an example. Suppose that a college offers 65 classes in a given semester, with the following distribution of sizes:</p>"
        },
        {
          "cell_type": "markdown",
          "metadata": {
          },
          "source": "\n\n\n"
        },
        {
          "cell_type": "code",
          "collapsed": false,
          "input": " size      count\n 5–9           8\n10–14          8\n15–19         14\n20–24          4\n25–29          6\n30–34         12\n35–39          8\n40–44          3\n45–49          2",
          "language": "python",
          "metadata": {
          },
          "outputs": [

          ]
        },
        {
          "cell_type": "markdown",
          "metadata": {
          },
          "source": "\n\n\n"
        },
        {
          "cell_type": "markdown",
          "metadata": {
          },
          "source": "<p>If you ask the Dean for the average class size, he would construct a PMF, compute the mean, and report that the average class size is 24.</p>"
        },
        {
          "cell_type": "markdown",
          "metadata": {
          },
          "source": "\n\n"
        },
        {
          "cell_type": "markdown",
          "metadata": {
          },
          "source": "<p>But if you survey a group of students, ask them how many students are in their classes, and compute the mean, you would think that the average class size was higher.</p>"
        },
        {
          "cell_type": "markdown",
          "metadata": {
          },
          "source": "\n\n"
        },
        {
          "cell_type": "markdown",
          "metadata": {
          },
          "source": "<p>.</p>"
        },
        {
          "cell_type": "markdown",
          "metadata": {
          },
          "source": "\n"
        },
        {
          "cell_type": "markdown",
          "metadata": {
          },
          "source": "\n"
        },
        {
          "cell_type": "heading",
          "level": 3,
          "metadata": {
          },
          "source": ""
        },
        {
          "cell_type": "markdown",
          "metadata": {
          },
          "source": "\n\n"
        },
        {
          "cell_type": "markdown",
          "metadata": {
          },
          "source": "<p>.</p>"
        },
        {
          "cell_type": "markdown",
          "metadata": {
          },
          "source": "\n"
        },
        {
          "cell_type": "heading",
          "level": 2,
          "metadata": {
          },
          "source": "The Limits of PMFs"
        },
        {
          "cell_type": "markdown",
          "metadata": {
          },
          "source": "\n\n"
        },
        {
          "cell_type": "markdown",
          "metadata": {
          },
          "source": "<p>PMFs work well if the number of values is small. But as the number of values increases, the probability associated with each value gets smaller and the effect of random noise increases.</p>"
        },
        {
          "cell_type": "markdown",
          "metadata": {
          },
          "source": "\n\n"
        },
        {
          "cell_type": "markdown",
          "metadata": {
          },
          "source": "<p>For example, we might be interested in the distribution of birth weights. In the NSFG data, the variable <code>totalwgt_oz</code> records weight at birth in ounces. <a data-type=\"xref\" href=\"#nsfg_birthwgt_pmf\">Figure 3-1</a> shows the PMF of these values for first babies and others; it also illustrates a limitation of PMFs: they are hard to compare.</p>"
        },
        {
          "cell_type": "markdown",
          "metadata": {
          },
          "source": "\n\n"
        },
        {
          "cell_type": "markdown",
          "metadata": {
          },
          "source": "<figure id=\"nsfg_birthwgt_pmf\"><img src=\"files/figs/web/thst_0301.png\" alt=\"thst 0301\"><figcaption>PMF of birth weights</figcaption></figure>"
        },
        {
          "cell_type": "markdown",
          "metadata": {
          },
          "source": "<p>Overall, these distributions resemble the familiar “bell curve,” with many values near the mean and a few values much higher and lower.</p>"
        },
        {
          "cell_type": "markdown",
          "metadata": {
          },
          "source": "\n\n"
        },
        {
          "cell_type": "markdown",
          "metadata": {
          },
          "source": "<p>But parts of this figure are hard to interpret. There are many spikes and valleys, and some apparent differences between the distributions. It is hard to tell which of these features are significant. Also, it is hard to see overall patterns; for example, which distribution do you think has the higher mean?</p>"
        },
        {
          "cell_type": "markdown",
          "metadata": {
          },
          "source": "\n\n"
        },
        {
          "cell_type": "markdown",
          "metadata": {
          },
          "source": "<p>These problems can be mitigated by binning the data; that is, dividing the domain into non-overlapping intervals and counting the number of values in each bin. Binning can be useful, but it is tricky to get the size of the bins right. If they are big enough to smooth out noise, they might also smooth out useful information.</p>"
        },
        {
          "cell_type": "markdown",
          "metadata": {
          },
          "source": "\n\n"
        },
        {
          "cell_type": "markdown",
          "metadata": {
          },
          "source": "<p>An alternative that avoids these problems is the <em>cumulative distribution function</em>, or <em>CDF</em>. But before we can get to that, we have to talk about percentiles.</p>"
        },
        {
          "cell_type": "markdown",
          "metadata": {
          },
          "source": "\n"
        },
        {
          "cell_type": "heading",
          "level": 2,
          "metadata": {
          },
          "source": "Percentiles"
        },
        {
          "cell_type": "markdown",
          "metadata": {
          },
          "source": "\n\n"
        },
        {
          "cell_type": "markdown",
          "metadata": {
          },
          "source": "<p>If you have taken a standardized test, you probably got your results in the form of a raw score and a <em>percentile rank</em>. In this context, the percentile rank is the fraction of people who scored lower than you (or the same). So if you are “in the 90th percentile,” you did as well as or better than 90% of the people who took the exam.</p>"
        },
        {
          "cell_type": "markdown",
          "metadata": {
          },
          "source": "\n\n"
        },
        {
          "cell_type": "markdown",
          "metadata": {
          },
          "source": "<p>Here’s how you could compute the percentile rank of a value, <code>your_score</code>, relative to the scores in the sequence <code>scores</code>:</p>"
        },
        {
          "cell_type": "markdown",
          "metadata": {
          },
          "source": "\n\n\n"
        },
        {
          "cell_type": "code",
          "collapsed": false,
          "input": "def PercentileRank(scores, your_score):\n    count = 0\n    for score in scores:\n        if score &lt;= your_score:\n            count += 1\n\n    percentile_rank = 100.0 * count / len(scores)\n    return percentile_rank",
          "language": "python",
          "metadata": {
          },
          "outputs": [

          ]
        },
        {
          "cell_type": "markdown",
          "metadata": {
          },
          "source": "\n\n\n"
        },
        {
          "cell_type": "markdown",
          "metadata": {
          },
          "source": "<p>For example, if the scores in the sequence were 55, 66, 77, 88, and 99, and you got the 88, then your percentile rank would be <code>100 \\* 4 / 5</code> which is 80.</p>"
        },
        {
          "cell_type": "markdown",
          "metadata": {
          },
          "source": "\n\n"
        },
        {
          "cell_type": "markdown",
          "metadata": {
          },
          "source": "<p>If you are given a value, it is easy to find its percentile rank; going the other way is slightly harder. If you are given a percentile rank and you want to find the corresponding value, one option is to sort the values and search for the one you want:</p>"
        },
        {
          "cell_type": "markdown",
          "metadata": {
          },
          "source": "\n\n\n"
        },
        {
          "cell_type": "code",
          "collapsed": false,
          "input": "def Percentile(scores, percentile_rank):\n    scores.sort()\n    for score in scores:\n        if PercentileRank(scores, score) &gt;= percentile_rank:\n            return score",
          "language": "python",
          "metadata": {
          },
          "outputs": [

          ]
        },
        {
          "cell_type": "markdown",
          "metadata": {
          },
          "source": "\n\n\n"
        },
        {
          "cell_type": "markdown",
          "metadata": {
          },
          "source": "<p>The result of this calculation is a <em>percentile</em>. For example, the 50th percentile is the value with percentile rank 50. In the distribution of exam scores, the 50th percentile is 77.</p>"
        },
        {
          "cell_type": "markdown",
          "metadata": {
          },
          "source": "\n\n"
        },
        {
          "cell_type": "markdown",
          "metadata": {
          },
          "source": "<p>.</p>"
        },
        {
          "cell_type": "markdown",
          "metadata": {
          },
          "source": "\n"
        },
        {
          "cell_type": "markdown",
          "metadata": {
          },
          "source": "\n"
        },
        {
          "cell_type": "heading",
          "level": 3,
          "metadata": {
          },
          "source": ""
        },
        {
          "cell_type": "markdown",
          "metadata": {
          },
          "source": "\n\n"
        },
        {
          "cell_type": "markdown",
          "metadata": {
          },
          "source": "<p>.</p>"
        },
        {
          "cell_type": "markdown",
          "metadata": {
          },
          "source": "\n"
        },
        {
          "cell_type": "heading",
          "level": 2,
          "metadata": {
          },
          "source": "Cumulative Distribution Functions"
        },
        {
          "cell_type": "markdown",
          "metadata": {
          },
          "source": "\n\n"
        },
        {
          "cell_type": "markdown",
          "metadata": {
          },
          "source": "<p>Now that we understand percentiles, we are ready to tackle the cumulative distribution function (CDF). The CDF is the function that maps values to their percentile rank in a distribution.</p>"
        },
        {
          "cell_type": "markdown",
          "metadata": {
          },
          "source": "\n\n"
        },
        {
          "cell_type": "markdown",
          "metadata": {
          },
          "source": "<p>The CDF is a function of <em>x</em>, where <em>x</em> is any value that might appear in the distribution. To evaluate CDF(<em>x</em>) for a particular value of <em>x</em>, we compute the fraction of the values in the sample less than (or equal to) <em>x</em>.</p>"
        },
        {
          "cell_type": "markdown",
          "metadata": {
          },
          "source": "\n\n"
        },
        {
          "cell_type": "markdown",
          "metadata": {
          },
          "source": "<p>Here’s what that looks like as a function that takes a sample, <code>t</code>, and a value, <code>x</code>:</p>"
        },
        {
          "cell_type": "markdown",
          "metadata": {
          },
          "source": "\n\n\n"
        },
        {
          "cell_type": "code",
          "collapsed": false,
          "input": "def Cdf(t, x):\n    count = 0.0\n    for value in t:\n        if value &lt;= x:\n            count += 1.0\n\n    prob = count / len(t)\n    return prob",
          "language": "python",
          "metadata": {
          },
          "outputs": [

          ]
        },
        {
          "cell_type": "markdown",
          "metadata": {
          },
          "source": "\n\n\n"
        },
        {
          "cell_type": "markdown",
          "metadata": {
          },
          "source": "<p>This function should look familiar; it is almost identical to <code>PercentileRank</code>, except that the result is in a probability in the range 0–1 rather than a percentile rank in the range 0–100.</p>"
        },
        {
          "cell_type": "markdown",
          "metadata": {
          },
          "source": "\n\n"
        },
        {
          "cell_type": "markdown",
          "metadata": {
          },
          "source": "<p>As an example, suppose a sample has the values {1, 2, 2, 3, 5}. Here are some values from its CDF:</p>"
        },
        {
          "cell_type": "markdown",
          "metadata": {
          },
          "source": "\n\n"
        },
        {
          "cell_type": "markdown",
          "metadata": {
          },
          "source": "<p>CDF(0) = 0<br>\nCDF(1) = 0.2<br>\nCDF(2) = 0.6<br>\nCDF(3) = 0.8<br>\nCDF(4) = 0.8<br>\nCDF(5) = 1</p>"
        },
        {
          "cell_type": "markdown",
          "metadata": {
          },
          "source": "\n\n"
        },
        {
          "cell_type": "markdown",
          "metadata": {
          },
          "source": "<p>We can evaluate the CDF for any value of <em>x</em>, not just values that appear in the sample. If <em>x</em> is less than the smallest value in the sample, CDF(<em>x</em>) is 0. If <em>x</em> is greater than the largest value, CDF(<em>x</em>) is 1.</p>"
        },
        {
          "cell_type": "markdown",
          "metadata": {
          },
          "source": "\n\n"
        },
        {
          "cell_type": "markdown",
          "metadata": {
          },
          "source": "<p><a data-type=\"xref\" href=\"#example_cdf\">Figure 3-2</a> is a graphical representation of this CDF. The CDF of a sample is a step function. In the next chapter, we will see distributions whose CDFs are continuous functions.</p>"
        },
        {
          "cell_type": "markdown",
          "metadata": {
          },
          "source": "\n\n"
        },
        {
          "cell_type": "markdown",
          "metadata": {
          },
          "source": "<figure id=\"example_cdf\"><img src=\"files/figs/web/thst_0302.png\" alt=\"thst 0302\"><figcaption>Example of a CDF</figcaption></figure>"
        },
        {
          "cell_type": "heading",
          "level": 2,
          "metadata": {
          },
          "source": "Representing CDFs"
        },
        {
          "cell_type": "markdown",
          "metadata": {
          },
          "source": "\n\n"
        },
        {
          "cell_type": "markdown",
          "metadata": {
          },
          "source": "<p>I have written a module called <code>Cdf</code> that provides a class named <code>Cdf</code> that represents CDFs. You can read the documentation of this module at <a href=\"http://thinkstats.com/Cdf.html\">http://thinkstats.com/Cdf.html</a> and you can download it from <a href=\"http://thinkstats.com/Cdf.py\">http://thinkstats.com/Cdf.py</a>.</p>"
        },
        {
          "cell_type": "markdown",
          "metadata": {
          },
          "source": "\n\n"
        },
        {
          "cell_type": "markdown",
          "metadata": {
          },
          "source": "<p>Cdfs are implemented with two sorted lists: <code>xs</code>, which contains the values, and <code>ps</code>, which contains the probabilities. The most important methods Cdfs provide are:</p>"
        },
        {
          "cell_type": "markdown",
          "metadata": {
          },
          "source": "\n"
        },
        {
          "cell_type": "markdown",
          "metadata": {
          },
          "source": "<dl>\n<dt><code>Prob(x)</code></dt>\n<dd>\n<p>Given a value <em>x</em>, computes the probability <em>p</em> = CDF(<em>x</em>).</p>\n</dd>\n<dt><code>Value(p)</code></dt>\n<dd>\n<p>Given a probability <em>p</em>, computes the corresponding value, <em>x</em>; that is, the inverse CDF of <em>p</em>.</p>\n</dd>\n</dl>\n"
        },
        {
          "cell_type": "markdown",
          "metadata": {
          },
          "source": "<p>Because <code>xs</code> and <code>ps</code> are sorted, these operations can use the bisection algorithm, which is efficient. The run time is proportional to the logarithm of the number of values; see <a href=\"http://wikipedia.org/wiki/Time_complexity\">http://wikipedia.org/wiki/Time_complexity</a>.</p>"
        },
        {
          "cell_type": "markdown",
          "metadata": {
          },
          "source": "\n\n"
        },
        {
          "cell_type": "markdown",
          "metadata": {
          },
          "source": "<p>Cdfs also provide <code>Render</code>, which returns two lists, <code>xs</code> and <code>ps</code>, suitable for plotting the CDF. Because the CDF is a step function, these lists have two elements for each unique value in the distribution.</p>"
        },
        {
          "cell_type": "markdown",
          "metadata": {
          },
          "source": "\n\n"
        },
        {
          "cell_type": "markdown",
          "metadata": {
          },
          "source": "<p>The Cdf module provides several functions for making Cdfs, including <code>MakeCdfFromList</code>, which takes a sequence of values and returns their Cdf.</p>"
        },
        {
          "cell_type": "markdown",
          "metadata": {
          },
          "source": "\n\n"
        },
        {
          "cell_type": "markdown",
          "metadata": {
          },
          "source": "<p>Finally, <code>myplot.py</code> provides functions named <code>Cdf</code> and <code>Cdfs</code> that plot Cdfs as lines.</p>"
        },
        {
          "cell_type": "markdown",
          "metadata": {
          },
          "source": "\n\n"
        },
        {
          "cell_type": "markdown",
          "metadata": {
          },
          "source": "<p>.</p>"
        },
        {
          "cell_type": "markdown",
          "metadata": {
          },
          "source": "\n"
        },
        {
          "cell_type": "markdown",
          "metadata": {
          },
          "source": "\n"
        },
        {
          "cell_type": "heading",
          "level": 3,
          "metadata": {
          },
          "source": ""
        },
        {
          "cell_type": "markdown",
          "metadata": {
          },
          "source": "\n\n"
        },
        {
          "cell_type": "markdown",
          "metadata": {
          },
          "source": "<p>=== Back to the Survey Data</p>"
        },
        {
          "cell_type": "markdown",
          "metadata": {
          },
          "source": "\n\n"
        },
        {
          "cell_type": "markdown",
          "metadata": {
          },
          "source": "<p><a data-type=\"xref\" href=\"#nsfg_birthwgt_cdf\">Figure 3-3</a> shows the CDFs of birth weight for first babies and others in the NSFG dataset.</p>"
        },
        {
          "cell_type": "markdown",
          "metadata": {
          },
          "source": "\n\n"
        },
        {
          "cell_type": "markdown",
          "metadata": {
          },
          "source": "<figure id=\"nsfg_birthwgt_cdf\"><img src=\"files/figs/web/thst_0303.png\" alt=\"thst 0303\"><figcaption>CDF of birth weights</figcaption></figure>"
        },
        {
          "cell_type": "markdown",
          "metadata": {
          },
          "source": "<p>This figure makes the shape of the distributions, and the differences between them, much clearer. We can see that first babies are slightly lighter throughout the distribution, with a larger discrepancy above the mean.</p>"
        },
        {
          "cell_type": "markdown",
          "metadata": {
          },
          "source": "\n\n"
        },
        {
          "cell_type": "markdown",
          "metadata": {
          },
          "source": "<p>.</p>"
        },
        {
          "cell_type": "markdown",
          "metadata": {
          },
          "source": "\n\n"
        },
        {
          "cell_type": "markdown",
          "metadata": {
          },
          "source": "<p>.</p>"
        },
        {
          "cell_type": "markdown",
          "metadata": {
          },
          "source": "\n"
        },
        {
          "cell_type": "markdown",
          "metadata": {
          },
          "source": "\n"
        },
        {
          "cell_type": "heading",
          "level": 3,
          "metadata": {
          },
          "source": ""
        },
        {
          "cell_type": "markdown",
          "metadata": {
          },
          "source": "\n\n"
        },
        {
          "cell_type": "markdown",
          "metadata": {
          },
          "source": "<p>=== Conditional Distributions</p>"
        },
        {
          "cell_type": "markdown",
          "metadata": {
          },
          "source": "\n\n"
        },
        {
          "cell_type": "markdown",
          "metadata": {
          },
          "source": "<p>A <em>conditional distribution</em> is the distribution of a subset of the data which is selected according to a condition.</p>"
        },
        {
          "cell_type": "markdown",
          "metadata": {
          },
          "source": "\n\n"
        },
        {
          "cell_type": "markdown",
          "metadata": {
          },
          "source": "<p>For example, if you are above average in weight, but way above average in height, then you might be relatively light for your height. Here’s how you could make that claim more precise.</p>"
        },
        {
          "cell_type": "markdown",
          "metadata": {
          },
          "source": "\n"
        },
        {
          "cell_type": "markdown",
          "metadata": {
          },
          "source": "<ol>\n<li>\n<p>Select a cohort of people who are the same height as you (within some range).</p>\n</li>\n<li>\n<p>Find the CDF of weight for those people.</p>\n</li>\n<li>\n<p>Find the percentile rank of your weight in that distribution.</p>\n</li>\n\n</ol>\n"
        },
        {
          "cell_type": "markdown",
          "metadata": {
          },
          "source": "<p>Percentile ranks are useful for comparing measurements from different tests, or tests applied to different groups.</p>"
        },
        {
          "cell_type": "markdown",
          "metadata": {
          },
          "source": "\n\n"
        },
        {
          "cell_type": "markdown",
          "metadata": {
          },
          "source": "<p>For example, people who compete in foot races are usually grouped by age and gender. To compare people in different groups, you can convert race times to percentile ranks.</p>"
        },
        {
          "cell_type": "markdown",
          "metadata": {
          },
          "source": "\n\n"
        },
        {
          "cell_type": "markdown",
          "metadata": {
          },
          "source": "<p>.</p>"
        },
        {
          "cell_type": "markdown",
          "metadata": {
          },
          "source": "\n"
        },
        {
          "cell_type": "heading",
          "level": 2,
          "metadata": {
          },
          "source": "Random Numbers"
        },
        {
          "cell_type": "markdown",
          "metadata": {
          },
          "source": "\n\n"
        },
        {
          "cell_type": "markdown",
          "metadata": {
          },
          "source": "<p>CDFs are useful for generating random numbers with a given distribution. Here’s how:</p>"
        },
        {
          "cell_type": "markdown",
          "metadata": {
          },
          "source": "\n"
        },
        {
          "cell_type": "markdown",
          "metadata": {
          },
          "source": "<ul>\n<li>\n<p>Choose a random probability in the range 0–1.</p>\n</li>\n<li>\n<p>Use <code>Cdf.Value</code> to find the value in the distribution that corresponds to the probability you chose.</p>\n</li>\n</ul>\n"
        },
        {
          "cell_type": "markdown",
          "metadata": {
          },
          "source": "<p>It might not be obvious why this works, but since it is easier to implement than to explain, let’s try it out.</p>"
        },
        {
          "cell_type": "markdown",
          "metadata": {
          },
          "source": "\n\n"
        },
        {
          "cell_type": "markdown",
          "metadata": {
          },
          "source": "<p>.</p>"
        },
        {
          "cell_type": "markdown",
          "metadata": {
          },
          "source": "\n"
        },
        {
          "cell_type": "markdown",
          "metadata": {
          },
          "source": "\n"
        },
        {
          "cell_type": "heading",
          "level": 3,
          "metadata": {
          },
          "source": ""
        },
        {
          "cell_type": "markdown",
          "metadata": {
          },
          "source": "\n\n"
        },
        {
          "cell_type": "markdown",
          "metadata": {
          },
          "source": "<p>This process, generating a random sample based on a measured sample, is called <em>resampling</em>.</p>"
        },
        {
          "cell_type": "markdown",
          "metadata": {
          },
          "source": "\n\n"
        },
        {
          "cell_type": "markdown",
          "metadata": {
          },
          "source": "<p>There are two ways to draw a sample from a population: with and without replacement. If you imagine drawing marbles from an urn,<a data-type=\"noteref\" id=\"idp1094096-marker\" href=\"ch03.html#idp1094096\"><sup>3</sup></a>“replacement” means putting the marbles back as you go (and stirring), so the population is the same for every draw. “Without replacement,” means that each marble can only be drawn once, so the remaining population is different after each draw.</p>"
        },
        {
          "cell_type": "markdown",
          "metadata": {
          },
          "source": "\n\n"
        },
        {
          "cell_type": "markdown",
          "metadata": {
          },
          "source": "<p>In Python, sampling with replacement can be implemented with <code>random.random</code> to choose a percentile rank, or <code>random.choice</code> to choose an element from a sequence. Sampling without replacement is provided by <code>random.sample</code>.</p>"
        },
        {
          "cell_type": "markdown",
          "metadata": {
          },
          "source": "\n\n"
        },
        {
          "cell_type": "markdown",
          "metadata": {
          },
          "source": "<p>.</p>"
        },
        {
          "cell_type": "markdown",
          "metadata": {
          },
          "source": "\n"
        },
        {
          "cell_type": "heading",
          "level": 2,
          "metadata": {
          },
          "source": "Summary Statistics Revisited"
        },
        {
          "cell_type": "markdown",
          "metadata": {
          },
          "source": "\n\n"
        },
        {
          "cell_type": "markdown",
          "metadata": {
          },
          "source": "<p>Once you have computed a CDF, it is easy to compute other summary statistics. The median is just the 50th percentile.<a data-type=\"noteref\" id=\"idp1100160-marker\" href=\"ch03.html#idp1100160\"><sup>4</sup></a>The 25th and 75th percentiles are often used to check whether a distribution is symmetric, and their difference, which is called the <em>interquartile range</em>, measures the spread.</p>"
        },
        {
          "cell_type": "markdown",
          "metadata": {
          },
          "source": "\n\n"
        },
        {
          "cell_type": "markdown",
          "metadata": {
          },
          "source": "<p>.</p>"
        },
        {
          "cell_type": "markdown",
          "metadata": {
          },
          "source": "\n"
        },
        {
          "cell_type": "markdown",
          "metadata": {
          },
          "source": "\n"
        },
        {
          "cell_type": "heading",
          "level": 3,
          "metadata": {
          },
          "source": ""
        },
        {
          "cell_type": "markdown",
          "metadata": {
          },
          "source": "\n\n"
        },
        {
          "cell_type": "markdown",
          "metadata": {
          },
          "source": "<p>=== Glossary</p>"
        },
        {
          "cell_type": "markdown",
          "metadata": {
          },
          "source": "\n"
        },
        {
          "cell_type": "markdown",
          "metadata": {
          },
          "source": "<dl>\n<dt>conditional distribution</dt>\n<dd>\n<p>A distribution computed under the assumption that some condition holds.</p>\n</dd>\n<dt>cumulative distribution function (CDF)</dt>\n<dd>\n<p>A function that maps from values to their percentile ranks.</p>\n</dd>\n<dt>interquartile range</dt>\n<dd>\n<p>A measure of spread, the difference between the 75th and 25th percentiles.</p>\n</dd>\n<dt>percentile</dt>\n<dd>\n<p>The value associated with a given percentile rank.</p>\n</dd>\n<dt>percentile rank</dt>\n<dd>\n<p>The percentage of values in a distribution that are less than or equal to a given value.</p>\n</dd>\n<dt>replacement</dt>\n<dd>\n<p>During a sampling process, “replacement” indicates that the population is the same for every sample. “Without replacement” indicates that each element can be selected only once.</p>\n</dd>\n<dt>resampling</dt>\n<dd>\n<p>The process of generating a random sample from a distribution that was computed from a sample.</p>\n</dd>\n</dl>"
        },
        {
          "cell_type": "markdown",
          "metadata": {
          },
          "source": "\n"
        },
        {
          "cell_type": "markdown",
          "metadata": {
          },
          "source": "<aside data-type=\"footnotes\"><p data-type=\"footnote\" id=\"idp1094096\"><a href=\"ch03.html#idp1094096-marker\"><sup>3</sup></a> The marbles-in-an-urn scenario is a standard model for random sampling processes (see <a href=\"http://wikipedia.org/wiki/Urn_problem\">http://wikipedia.org/wiki/Urn_problem</a>).</p>\n<p data-type=\"footnote\" id=\"idp1100160\"><a href=\"ch03.html#idp1100160-marker\"><sup>4</sup></a> You might see other definitions of the median. In particular, some sources suggest that if you have an even number of elements in a sample, the median is the average of the middle two elements. This is an unnecessary special case, and it has the odd effect of generating a value that is not in the sample. As far as I’m concerned, the median is the 50th percentile. Period.</p></aside>"
        }
      ],
      "metadata": {
      }
    }
  ]
}