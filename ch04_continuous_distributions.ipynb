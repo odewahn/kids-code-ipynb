{
  "metadata": {
    "name": "Continuous Distributions"
  },
  "nbformat": 3,
  "nbformat_minor": 0,
  "worksheets": [
    {
      "cells": [
        {
          "cell_type": "heading",
          "level": 1,
          "metadata": {
          },
          "source": "Continuous Distributions"
        },
        {
          "cell_type": "markdown",
          "metadata": {
          },
          "source": "\n\n\n"
        },
        {
          "cell_type": "markdown",
          "metadata": {
          },
          "source": "<p>The distributions we have used so far are called <em>empirical distributions</em> because they are based on empirical observations, which are necessarily finite samples.</p>"
        },
        {
          "cell_type": "markdown",
          "metadata": {
          },
          "source": "\n\n"
        },
        {
          "cell_type": "markdown",
          "metadata": {
          },
          "source": "<p>The alternative is a <em>continuous distribution</em>, which is characterized by a CDF that is a continuous function (as opposed to a step function). Many real-world phenomena can be approximated by continuous distributions.</p>"
        },
        {
          "cell_type": "markdown",
          "metadata": {
          },
          "source": "\n\n\n\n\n\n\n"
        },
        {
          "cell_type": "heading",
          "level": 2,
          "metadata": {
          },
          "source": "The Exponential Distribution"
        },
        {
          "cell_type": "markdown",
          "metadata": {
          },
          "source": "\n\n"
        },
        {
          "cell_type": "markdown",
          "metadata": {
          },
          "source": "<p>I’ll start with the exponential distribution because it is easy to work with. In the real world, exponential distributions come up when we look at a series of events and measure the times between events, which are called <em>interarrival times</em>. If the events are equally likely to occur at any time, the distribution of interarrival times tends to look like an exponential distribution.</p>"
        },
        {
          "cell_type": "markdown",
          "metadata": {
          },
          "source": "\n\n"
        },
        {
          "cell_type": "markdown",
          "metadata": {
          },
          "source": "<p>The CDF of the exponential distribution is:</p>"
        },
        {
          "cell_type": "markdown",
          "metadata": {
          },
          "source": "\n\n"
        },
        {
          "cell_type": "markdown",
          "metadata": {
          },
          "source": "<p><em>CDF(x) = 1 - e</em>-<em>λ</em> <em>x</em></p>"
        },
        {
          "cell_type": "markdown",
          "metadata": {
          },
          "source": "\n\n"
        },
        {
          "cell_type": "markdown",
          "metadata": {
          },
          "source": "<p>The parameter, <em>λ</em>, determines the shape of the distribution. <a data-type=\"xref\" href=\"#expo_cdf\">Figure 4-1</a> shows what this CDF looks like with <em>λ</em> = 2.</p>"
        },
        {
          "cell_type": "markdown",
          "metadata": {
          },
          "source": "\n\n"
        },
        {
          "cell_type": "markdown",
          "metadata": {
          },
          "source": "<figure id=\"expo_cdf\"><img src=\"files/figs/web/thst_0401.png\" alt=\"thst 0401\"><figcaption>CDF of exponential distribution</figcaption></figure>"
        },
        {
          "cell_type": "markdown",
          "metadata": {
          },
          "source": "<p>In general, the mean of an exponential distribution is 1/<em>λ</em>, so the mean of this distribution is 0.5. The median is log(2)/<em>λ</em>, which is roughly 0.35.</p>"
        },
        {
          "cell_type": "markdown",
          "metadata": {
          },
          "source": "\n\n"
        },
        {
          "cell_type": "markdown",
          "metadata": {
          },
          "source": "<p>To see an example of a distribution that is approximately exponential, we will look at the interarrival time of babies. On December 18, 1997, 44 babies were born in a hospital in Brisbane, Australia.<a data-type=\"noteref\" id=\"idp1128944-marker\" href=\"ch04.html#idp1128944\"><sup>5</sup></a> The times of birth for all 44 babies were reported in the local paper; you can download the data from <a href=\"http://thinkstats.com/babyboom.dat\">http://thinkstats.com/babyboom.dat</a>.</p>"
        },
        {
          "cell_type": "markdown",
          "metadata": {
          },
          "source": "\n\n"
        },
        {
          "cell_type": "markdown",
          "metadata": {
          },
          "source": "<p><a data-type=\"xref\" href=\"#interarrival_cdf\">Figure 4-2</a> shows the CDF of the interarrival times in minutes. It seems to have the general shape of an exponential distribution, but how can we tell?</p>"
        },
        {
          "cell_type": "markdown",
          "metadata": {
          },
          "source": "\n\n"
        },
        {
          "cell_type": "markdown",
          "metadata": {
          },
          "source": "<figure id=\"interarrival_cdf\"><img src=\"files/figs/web/thst_0402.png\" alt=\"thst 0402\"><figcaption>CDF of interarrival times</figcaption></figure>"
        },
        {
          "cell_type": "markdown",
          "metadata": {
          },
          "source": "<p>One way is to plot the complementary CDF, 1 − CDF(<em>x</em>), on a log-<em>y</em> scale. For data from an exponential distribution, the result is a straight line. Let’s see why that works.</p>"
        },
        {
          "cell_type": "markdown",
          "metadata": {
          },
          "source": "\n\n"
        },
        {
          "cell_type": "markdown",
          "metadata": {
          },
          "source": "<p>If you plot the complementary CDF (CCDF) of a dataset that you think is exponential, you expect to see a function like:</p>"
        },
        {
          "cell_type": "markdown",
          "metadata": {
          },
          "source": "\n\n"
        },
        {
          "cell_type": "markdown",
          "metadata": {
          },
          "source": "<p><em>y</em> ≈ <em>e</em>-<em>λ</em> <em>x</em></p>"
        },
        {
          "cell_type": "markdown",
          "metadata": {
          },
          "source": "\n\n"
        },
        {
          "cell_type": "markdown",
          "metadata": {
          },
          "source": "<p>Taking the log of both sides yields:</p>"
        },
        {
          "cell_type": "markdown",
          "metadata": {
          },
          "source": "\n\n"
        },
        {
          "cell_type": "markdown",
          "metadata": {
          },
          "source": "<p>log\n<em>y</em> ≈ -<em>λ</em> <em>x</em></p>"
        },
        {
          "cell_type": "markdown",
          "metadata": {
          },
          "source": "\n\n"
        },
        {
          "cell_type": "markdown",
          "metadata": {
          },
          "source": "<p>So on a log-<em>y</em> scale, the CCDF is a straight line with slope −<em>λ</em>.</p>"
        },
        {
          "cell_type": "markdown",
          "metadata": {
          },
          "source": "\n\n"
        },
        {
          "cell_type": "markdown",
          "metadata": {
          },
          "source": "<p><a data-type=\"xref\" href=\"#interarrival_ccdf\">Figure 4-3</a> shows the CCDF of the interarrivals on a log-<em>y</em> scale. It is not exactly straight, which suggests that the exponential distribution is only an approximation. Most likely the underlying assumption—that a birth is equally likely at any time of day—is not exactly true.</p>"
        },
        {
          "cell_type": "markdown",
          "metadata": {
          },
          "source": "\n\n"
        },
        {
          "cell_type": "markdown",
          "metadata": {
          },
          "source": "<figure id=\"interarrival_ccdf\"><img src=\"files/figs/web/thst_0403.png\" alt=\"thst 0403\"><figcaption>CCDF of interarrival times</figcaption></figure>"
        },
        {
          "cell_type": "markdown",
          "metadata": {
          },
          "source": "<p>.</p>"
        },
        {
          "cell_type": "markdown",
          "metadata": {
          },
          "source": "\n"
        },
        {
          "cell_type": "markdown",
          "metadata": {
          },
          "source": "\n"
        },
        {
          "cell_type": "heading",
          "level": 3,
          "metadata": {
          },
          "source": ""
        },
        {
          "cell_type": "markdown",
          "metadata": {
          },
          "source": "\n\n\n"
        },
        {
          "cell_type": "code",
          "collapsed": false,
          "input": "myplot.Cdf(cdf, complement=True, xscale='linear', yscale='log')",
          "language": "python",
          "metadata": {
          },
          "outputs": [

          ]
        },
        {
          "cell_type": "markdown",
          "metadata": {
          },
          "source": "\n"
        },
        {
          "cell_type": "markdown",
          "metadata": {
          },
          "source": "\n\n"
        },
        {
          "cell_type": "markdown",
          "metadata": {
          },
          "source": "<p>.</p>"
        },
        {
          "cell_type": "markdown",
          "metadata": {
          },
          "source": "\n"
        },
        {
          "cell_type": "markdown",
          "metadata": {
          },
          "source": "\n"
        },
        {
          "cell_type": "heading",
          "level": 3,
          "metadata": {
          },
          "source": ""
        },
        {
          "cell_type": "markdown",
          "metadata": {
          },
          "source": "\n\n"
        },
        {
          "cell_type": "markdown",
          "metadata": {
          },
          "source": "<p>=== The Pareto Distribution</p>"
        },
        {
          "cell_type": "markdown",
          "metadata": {
          },
          "source": "\n\n"
        },
        {
          "cell_type": "markdown",
          "metadata": {
          },
          "source": "<p>The Pareto distribution is named after the economist Vilfredo Pareto, who used it to describe the distribution of wealth (see <a href=\"http://wikipedia.org/wiki/Pareto_distribution\">http://wikipedia.org/wiki/Pareto_distribution</a>). Since then, it has been used to describe phenomena in the natural and social sciences including sizes of cities and towns, sand particles and meteorites, forest fires and earthquakes.</p>"
        },
        {
          "cell_type": "markdown",
          "metadata": {
          },
          "source": "\n\n"
        },
        {
          "cell_type": "markdown",
          "metadata": {
          },
          "source": "<p>The CDF of the Pareto distribution is:</p>"
        },
        {
          "cell_type": "markdown",
          "metadata": {
          },
          "source": "\n\n"
        },
        {
          "cell_type": "markdown",
          "metadata": {
          },
          "source": "<p>The parameters <em>x</em> <em>m</em> and <em>α</em> determine the location and shape of the distribution. <em>x</em> <em>m</em> is the minimum possible value. <a data-type=\"xref\" href=\"#pareto_cdf\">Figure 4-4</a> shows the CDF of a Pareto distribution with parameters <em>x</em> <em>m</em> = 0.5 and <em>α</em> = 1.</p>"
        },
        {
          "cell_type": "markdown",
          "metadata": {
          },
          "source": "\n\n"
        },
        {
          "cell_type": "markdown",
          "metadata": {
          },
          "source": "<figure id=\"pareto_cdf\"><img src=\"files/figs/web/thst_0404.png\" alt=\"thst 0404\"><figcaption>CDF of a Pareto distribution</figcaption></figure>"
        },
        {
          "cell_type": "markdown",
          "metadata": {
          },
          "source": "<p>The median of this distribution is:</p>"
        },
        {
          "cell_type": "markdown",
          "metadata": {
          },
          "source": "\n\n"
        },
        {
          "cell_type": "markdown",
          "metadata": {
          },
          "source": "<p>which is 1, but the 95th percentile is 10. By contrast, the exponential distribution with median 1 has 95th percentile of only 1.5.</p>"
        },
        {
          "cell_type": "markdown",
          "metadata": {
          },
          "source": "\n\n"
        },
        {
          "cell_type": "markdown",
          "metadata": {
          },
          "source": "<p>There is a simple visual test that indicates whether an empirical distribution fits a Pareto distribution: on a log-log scale, the CCDF looks like a straight line. If you plot a the CCDF of a sample from a Pareto distribution on a linear scale, you expect to see a function like:</p>"
        },
        {
          "cell_type": "markdown",
          "metadata": {
          },
          "source": "\n\n"
        },
        {
          "cell_type": "markdown",
          "metadata": {
          },
          "source": "<p>Taking the log of both sides yields:</p>"
        },
        {
          "cell_type": "markdown",
          "metadata": {
          },
          "source": "\n\n"
        },
        {
          "cell_type": "markdown",
          "metadata": {
          },
          "source": "<p>log y ≈ −<em>α</em> (log\n<em>x</em> − log\nx_m_)</p>"
        },
        {
          "cell_type": "markdown",
          "metadata": {
          },
          "source": "\n\n"
        },
        {
          "cell_type": "markdown",
          "metadata": {
          },
          "source": "<p>So if you plot log <em>y</em> versus log <em>x</em>, it should look like a straight line with slope −<em>α</em> and intercept <em>α</em> log <em>x</em> <em>m</em>.</p>"
        },
        {
          "cell_type": "markdown",
          "metadata": {
          },
          "source": "\n\n"
        },
        {
          "cell_type": "markdown",
          "metadata": {
          },
          "source": "<p>.</p>"
        },
        {
          "cell_type": "markdown",
          "metadata": {
          },
          "source": "\n\n"
        },
        {
          "cell_type": "markdown",
          "metadata": {
          },
          "source": "<p>.</p>"
        },
        {
          "cell_type": "markdown",
          "metadata": {
          },
          "source": "\n"
        },
        {
          "cell_type": "markdown",
          "metadata": {
          },
          "source": "\n"
        },
        {
          "cell_type": "heading",
          "level": 3,
          "metadata": {
          },
          "source": ""
        },
        {
          "cell_type": "markdown",
          "metadata": {
          },
          "source": "\n\n"
        },
        {
          "cell_type": "markdown",
          "metadata": {
          },
          "source": "<p>.</p>"
        },
        {
          "cell_type": "markdown",
          "metadata": {
          },
          "source": "\n\n"
        },
        {
          "cell_type": "markdown",
          "metadata": {
          },
          "source": "<p>.</p>"
        },
        {
          "cell_type": "markdown",
          "metadata": {
          },
          "source": "\n"
        },
        {
          "cell_type": "markdown",
          "metadata": {
          },
          "source": "\n"
        },
        {
          "cell_type": "heading",
          "level": 3,
          "metadata": {
          },
          "source": ""
        },
        {
          "cell_type": "markdown",
          "metadata": {
          },
          "source": "\n\n"
        },
        {
          "cell_type": "markdown",
          "metadata": {
          },
          "source": "<p>=== The Normal Distribution</p>"
        },
        {
          "cell_type": "markdown",
          "metadata": {
          },
          "source": "\n\n"
        },
        {
          "cell_type": "markdown",
          "metadata": {
          },
          "source": "<p>The normal distribution, also called Gaussian, is the most commonly used because it describes so many phenomena, at least approximately. It turns out that there is a good reason for its ubiquity, which we will get to in <a data-type=\"xref\" href=\"ch06.html#CLT\">“Central Limit Theorem”</a>.</p>"
        },
        {
          "cell_type": "markdown",
          "metadata": {
          },
          "source": "\n\n"
        },
        {
          "cell_type": "markdown",
          "metadata": {
          },
          "source": "<p>The normal distribution has many properties that make it amenable for analysis, but the CDF is not one of them. Unlike the other distributions we have looked at, there is no closed-form expression for the normal CDF; the most common alternative is to write it in terms of the <em>error function</em>, which is a special function written erf(<em>x</em>):</p>"
        },
        {
          "cell_type": "markdown",
          "metadata": {
          },
          "source": "\n\n"
        },
        {
          "cell_type": "markdown",
          "metadata": {
          },
          "source": "<p>The parameters <em>μ</em> and <em>σ</em> determine the mean and standard deviation of the distribution.</p>"
        },
        {
          "cell_type": "markdown",
          "metadata": {
          },
          "source": "\n\n"
        },
        {
          "cell_type": "markdown",
          "metadata": {
          },
          "source": "<p>If these formulas make your eyes hurt, don’t worry; they are easy to implement in Python.<a data-type=\"noteref\" id=\"idp1177184-marker\" href=\"ch04.html#idp1177184\"><sup>6</sup></a> There are many fast and accurate ways to approximate erf(<em>x</em>). You can download one of them from <a href=\"http://thinkstats.com/erf.py\">http://thinkstats.com/erf.py</a>, which provides functions named <code>erf</code> and <code>NormalCdf</code>.</p>"
        },
        {
          "cell_type": "markdown",
          "metadata": {
          },
          "source": "\n\n"
        },
        {
          "cell_type": "markdown",
          "metadata": {
          },
          "source": "<p><a data-type=\"xref\" href=\"#normal_cdf\">Figure 4-5</a> shows the CDF of the normal distribution with parameters <em>μ</em> = 2.0 and <em>σ</em> = 0.5. The sigmoid shape of this curve is a recognizable characteristic of a normal distribution.</p>"
        },
        {
          "cell_type": "markdown",
          "metadata": {
          },
          "source": "\n\n"
        },
        {
          "cell_type": "markdown",
          "metadata": {
          },
          "source": "<figure id=\"normal_cdf\"><img src=\"files/figs/web/thst_0405.png\" alt=\"thst 0405\"><figcaption>CDF of a normal distribution</figcaption></figure>"
        },
        {
          "cell_type": "markdown",
          "metadata": {
          },
          "source": "<p>In the previous chapter, we looked at the distribution of birth weights in the NSFG. <a data-type=\"xref\" href=\"#nsfg_birthwgt_model\">Figure 4-6</a> shows the empirical CDF of weights for all live births and the CDF of a normal distribution with the same mean and variance.</p>"
        },
        {
          "cell_type": "markdown",
          "metadata": {
          },
          "source": "\n\n"
        },
        {
          "cell_type": "markdown",
          "metadata": {
          },
          "source": "<figure id=\"nsfg_birthwgt_model\"><img src=\"files/figs/web/thst_0406.png\" alt=\"thst 0406\"><figcaption>CDF of birth weights with a normal model</figcaption></figure>"
        },
        {
          "cell_type": "markdown",
          "metadata": {
          },
          "source": "<p>The normal distribution is a good model for this dataset. A <em>model</em> is a useful simplification. In this case it is useful because we can summarize the entire distribution with just two numbers, <em>μ</em> = 116.5 and <em>σ</em> = 19.9, and the resulting error (difference between the model and the data) is small.</p>"
        },
        {
          "cell_type": "markdown",
          "metadata": {
          },
          "source": "\n\n"
        },
        {
          "cell_type": "markdown",
          "metadata": {
          },
          "source": "<p>Below the 10th percentile there is a discrepancy between the data and the model; there are more light babies than we would expect in a normal distribution. If we are interested in studying preterm babies, it would be important to get this part of the distribution right, so it might not be appropriate to use the normal model.</p>"
        },
        {
          "cell_type": "markdown",
          "metadata": {
          },
          "source": "\n\n"
        },
        {
          "cell_type": "markdown",
          "metadata": {
          },
          "source": "<p>.</p>"
        },
        {
          "cell_type": "markdown",
          "metadata": {
          },
          "source": "\n\n"
        },
        {
          "cell_type": "markdown",
          "metadata": {
          },
          "source": "<p>.</p>"
        },
        {
          "cell_type": "markdown",
          "metadata": {
          },
          "source": "\n"
        },
        {
          "cell_type": "markdown",
          "metadata": {
          },
          "source": "\n"
        },
        {
          "cell_type": "heading",
          "level": 3,
          "metadata": {
          },
          "source": ""
        },
        {
          "cell_type": "markdown",
          "metadata": {
          },
          "source": "\n\n"
        },
        {
          "cell_type": "markdown",
          "metadata": {
          },
          "source": "<p>=== Normal Probability Plot</p>"
        },
        {
          "cell_type": "markdown",
          "metadata": {
          },
          "source": "\n\n"
        },
        {
          "cell_type": "markdown",
          "metadata": {
          },
          "source": "<p>For the exponential, Pareto, and Weibull distributions, there are simple transformations we can use to test whether a continuous distribution is a good model of a dataset.</p>"
        },
        {
          "cell_type": "markdown",
          "metadata": {
          },
          "source": "\n\n"
        },
        {
          "cell_type": "markdown",
          "metadata": {
          },
          "source": "<p>For the normal distribution, there is no such transformation, but there is an alternative called a <em>normal probability plot</em>. It is based on <em>rankits</em>: if you generate <em>n</em> values from a normal distribution and sort them, the <em>k</em> th rankit is the mean of the distribution for the <em>k</em> th value.</p>"
        },
        {
          "cell_type": "markdown",
          "metadata": {
          },
          "source": "\n\n"
        },
        {
          "cell_type": "markdown",
          "metadata": {
          },
          "source": "<p>.</p>"
        },
        {
          "cell_type": "markdown",
          "metadata": {
          },
          "source": "\n\n"
        },
        {
          "cell_type": "markdown",
          "metadata": {
          },
          "source": "<p>Computing rankits exactly is moderately difficult, but there are numerical methods for approximating them. And there is a quick-and-dirty method that is even easier to implement:</p>"
        },
        {
          "cell_type": "markdown",
          "metadata": {
          },
          "source": "\n"
        },
        {
          "cell_type": "markdown",
          "metadata": {
          },
          "source": "<ol>\n<li>\n<p>From a normal distribution with <em>μ</em> = 0 and <em>σ</em> = 1, generate a sample with the same size as your dataset and sort it.</p>\n</li>\n<li>\n<p>Sort the values in the dataset.</p>\n</li>\n<li>\n<p>Plot the sorted values from your dataset versus the random values.</p>\n</li>\n\n</ol>\n"
        },
        {
          "cell_type": "markdown",
          "metadata": {
          },
          "source": "<p>For large datasets, this method works well. For smaller datasets, you can improve it by generating <em>m</em>(<em>n</em>+1) − 1 values from a normal distribution, where <em>n</em> is the size of the dataset and <em>m</em> is a multiplier. Then select every <em>m</em> th element, starting with the <em>m</em> th.</p>"
        },
        {
          "cell_type": "markdown",
          "metadata": {
          },
          "source": "\n\n"
        },
        {
          "cell_type": "markdown",
          "metadata": {
          },
          "source": "<p>This method works with other distributions as well, as long as you know how to generate a random sample.</p>"
        },
        {
          "cell_type": "markdown",
          "metadata": {
          },
          "source": "\n\n"
        },
        {
          "cell_type": "markdown",
          "metadata": {
          },
          "source": "<p><a data-type=\"xref\" href=\"#nsfg_birthwgt_normal\">Figure 4-7</a> is a quick-and-dirty normal probability plot for the birth weight data.</p>"
        },
        {
          "cell_type": "markdown",
          "metadata": {
          },
          "source": "\n\n"
        },
        {
          "cell_type": "markdown",
          "metadata": {
          },
          "source": "<figure id=\"nsfg_birthwgt_normal\"><img src=\"files/figs/web/thst_0407.png\" alt=\"thst 0407\"><figcaption>Normal probability plot of birth weights</figcaption></figure>"
        },
        {
          "cell_type": "markdown",
          "metadata": {
          },
          "source": "<p>The curvature in this plot suggests that there are deviations from a normal distribution; nevertheless, it is a good (enough) model for many purposes.</p>"
        },
        {
          "cell_type": "markdown",
          "metadata": {
          },
          "source": "\n\n"
        },
        {
          "cell_type": "markdown",
          "metadata": {
          },
          "source": "<p>.</p>"
        },
        {
          "cell_type": "markdown",
          "metadata": {
          },
          "source": "\n"
        },
        {
          "cell_type": "markdown",
          "metadata": {
          },
          "source": "\n"
        },
        {
          "cell_type": "heading",
          "level": 3,
          "metadata": {
          },
          "source": ""
        },
        {
          "cell_type": "markdown",
          "metadata": {
          },
          "source": "\n\n"
        },
        {
          "cell_type": "markdown",
          "metadata": {
          },
          "source": "<p>=== The Lognormal Distribution</p>"
        },
        {
          "cell_type": "markdown",
          "metadata": {
          },
          "source": "\n\n"
        },
        {
          "cell_type": "markdown",
          "metadata": {
          },
          "source": "<p>If the logarithms of a set of values have a normal distribution, the values have a <em>lognormal</em> distribution. The CDF of the lognormal distribution is the same as the CDF of the normal distribution, with log <em>x</em> substituted for <em>x</em>.</p>"
        },
        {
          "cell_type": "markdown",
          "metadata": {
          },
          "source": "\n\n"
        },
        {
          "cell_type": "markdown",
          "metadata": {
          },
          "source": "<p>CDF_lognormal_(<em>x</em>)\n= CDF_normal_(log\n<em>x</em>)</p>"
        },
        {
          "cell_type": "markdown",
          "metadata": {
          },
          "source": "\n\n"
        },
        {
          "cell_type": "markdown",
          "metadata": {
          },
          "source": "<p>The parameters of the lognormal distribution are usually denoted <em>μ</em> and <em>σ</em>. But remember that these parameters are <em>not</em> the mean and standard deviation; the mean of a lognormal distribution is exp(<em>μ</em> + <em>σ__2</em>/2) and the standard deviation is ugly.<a data-type=\"noteref\" id=\"idp1217584-marker\" href=\"ch04.html#idp1217584\"><sup>7</sup></a></p>"
        },
        {
          "cell_type": "markdown",
          "metadata": {
          },
          "source": "\n\n"
        },
        {
          "cell_type": "markdown",
          "metadata": {
          },
          "source": "<p>It turns out that the distribution of weights for adults is approximately lognormal.<a data-type=\"noteref\" id=\"idp1219680-marker\" href=\"ch04.html#idp1219680\"><sup>8</sup></a></p>"
        },
        {
          "cell_type": "markdown",
          "metadata": {
          },
          "source": "\n\n"
        },
        {
          "cell_type": "markdown",
          "metadata": {
          },
          "source": "<p>The National Center for Chronic Disease Prevention and Health Promotion conducts an annual survey as part of the Behavioral Risk Factor Surveillance System (BRFSS).<a data-type=\"noteref\" id=\"idp1218080-marker\" href=\"ch04.html#idp1218080\"><sup>9</sup></a> In 2008, they interviewed 414,509 respondents and asked about their demographics, health, and health risks.</p>"
        },
        {
          "cell_type": "markdown",
          "metadata": {
          },
          "source": "\n\n"
        },
        {
          "cell_type": "markdown",
          "metadata": {
          },
          "source": "<p>Among the data they collected are the weights in kilograms of 398,484 respondents. <a data-type=\"xref\" href=\"#brfss_weight_log\">Figure 4-8</a> shows the distribution of log <em>w</em>, where <em>w</em> is weight in kilograms, along with a normal model.</p>"
        },
        {
          "cell_type": "markdown",
          "metadata": {
          },
          "source": "\n\n"
        },
        {
          "cell_type": "markdown",
          "metadata": {
          },
          "source": "<figure id=\"brfss_weight_log\"><img src=\"files/figs/web/thst_0408.png\" alt=\"thst 0408\"><figcaption>CDF of adult weights (log transform)</figcaption></figure>"
        },
        {
          "cell_type": "markdown",
          "metadata": {
          },
          "source": "<p>The normal model is a good fit for the data, although the highest weights exceed what we expect from the normal model even after the log transform. Since the distribution of log <em>w</em> fits a normal distribution, we conclude that <em>w</em> fits a lognormal distribution.</p>"
        },
        {
          "cell_type": "markdown",
          "metadata": {
          },
          "source": "\n\n"
        },
        {
          "cell_type": "markdown",
          "metadata": {
          },
          "source": "<p>.</p>"
        },
        {
          "cell_type": "markdown",
          "metadata": {
          },
          "source": "\n\n"
        },
        {
          "cell_type": "markdown",
          "metadata": {
          },
          "source": "<p>.</p>"
        },
        {
          "cell_type": "markdown",
          "metadata": {
          },
          "source": "\n"
        },
        {
          "cell_type": "markdown",
          "metadata": {
          },
          "source": "\n"
        },
        {
          "cell_type": "heading",
          "level": 3,
          "metadata": {
          },
          "source": ""
        },
        {
          "cell_type": "markdown",
          "metadata": {
          },
          "source": "\n\n"
        },
        {
          "cell_type": "markdown",
          "metadata": {
          },
          "source": "<p>.</p>"
        },
        {
          "cell_type": "markdown",
          "metadata": {
          },
          "source": "\n"
        },
        {
          "cell_type": "heading",
          "level": 2,
          "metadata": {
          },
          "source": "Why Model?"
        },
        {
          "cell_type": "markdown",
          "metadata": {
          },
          "source": "\n\n"
        },
        {
          "cell_type": "markdown",
          "metadata": {
          },
          "source": "<p>At the beginning of this chapter, I said that many real-world phenomena can be modeled with continuous distributions. “So what?”, you might ask.</p>"
        },
        {
          "cell_type": "markdown",
          "metadata": {
          },
          "source": "\n\n"
        },
        {
          "cell_type": "markdown",
          "metadata": {
          },
          "source": "<p>Like all models, continuous distributions are abstractions, which means they leave out details that are considered irrelevant. For example, an observed distribution might have measurement errors or quirks that are specific to the sample; continuous models smooth out these idiosyncrasies.</p>"
        },
        {
          "cell_type": "markdown",
          "metadata": {
          },
          "source": "\n\n"
        },
        {
          "cell_type": "markdown",
          "metadata": {
          },
          "source": "<p>Continuous models are also a form of data compression. When a model fits a dataset well, a small set of parameters can summarize a large amount of data.</p>"
        },
        {
          "cell_type": "markdown",
          "metadata": {
          },
          "source": "\n\n"
        },
        {
          "cell_type": "markdown",
          "metadata": {
          },
          "source": "<p>It is sometimes surprising when data from a natural phenomenon fit a continuous distribution, but these observations can lead to insight into physical systems. Sometimes we can explain why an observed distribution has a particular form. For example, Pareto distributions are often the result of generative processes with positive feedback (so-called preferential attachment processes: see <a href=\"http://wikipedia.org/wiki/Preferential_attachment\">http://wikipedia.org/wiki/Preferential_attachment</a>.).</p>"
        },
        {
          "cell_type": "markdown",
          "metadata": {
          },
          "source": "\n\n"
        },
        {
          "cell_type": "markdown",
          "metadata": {
          },
          "source": "<p>Continuous distributions lend themselves to mathematical analysis, as we will see in <a data-type=\"xref\" href=\"ch06.html#operations\">Chapter 6</a>.</p>"
        },
        {
          "cell_type": "markdown",
          "metadata": {
          },
          "source": "\n"
        },
        {
          "cell_type": "heading",
          "level": 2,
          "metadata": {
          },
          "source": "Generating Random Numbers"
        },
        {
          "cell_type": "markdown",
          "metadata": {
          },
          "source": "\n\n"
        },
        {
          "cell_type": "markdown",
          "metadata": {
          },
          "source": "<p>Continuous CDFs are also useful for generating random numbers. If there is an efficient way to compute the inverse CDF, ICDF(<em>p</em>), we can generate random values with the appropriate distribution by choosing from a uniform distribution from 0 to 1, then choosing:</p>"
        },
        {
          "cell_type": "markdown",
          "metadata": {
          },
          "source": "\n\n"
        },
        {
          "cell_type": "markdown",
          "metadata": {
          },
          "source": "<p><em>x</em> = ICDF(<em>p</em>)</p>"
        },
        {
          "cell_type": "markdown",
          "metadata": {
          },
          "source": "\n\n"
        },
        {
          "cell_type": "markdown",
          "metadata": {
          },
          "source": "<p>For example, the CDF of the exponential distribution is:</p>"
        },
        {
          "cell_type": "markdown",
          "metadata": {
          },
          "source": "\n\n"
        },
        {
          "cell_type": "markdown",
          "metadata": {
          },
          "source": "<p><em>p</em> = 1 −\n<em>e-λx</em></p>"
        },
        {
          "cell_type": "markdown",
          "metadata": {
          },
          "source": "\n\n"
        },
        {
          "cell_type": "markdown",
          "metadata": {
          },
          "source": "<p>Solving for <em>x</em> yields:</p>"
        },
        {
          "cell_type": "markdown",
          "metadata": {
          },
          "source": "\n\n"
        },
        {
          "cell_type": "markdown",
          "metadata": {
          },
          "source": "<p><em>x</em>= −log\n(1 − <em>p</em>) / <em>λ</em></p>"
        },
        {
          "cell_type": "markdown",
          "metadata": {
          },
          "source": "\n\n"
        },
        {
          "cell_type": "markdown",
          "metadata": {
          },
          "source": "<p>So in Python we can write:</p>"
        },
        {
          "cell_type": "markdown",
          "metadata": {
          },
          "source": "\n\n\n"
        },
        {
          "cell_type": "code",
          "collapsed": false,
          "input": "def expovariate(lam):\n    p = random.random()\n    x = -math.log(1-p) / lam\n    return x",
          "language": "python",
          "metadata": {
          },
          "outputs": [

          ]
        },
        {
          "cell_type": "markdown",
          "metadata": {
          },
          "source": "\n\n\n"
        },
        {
          "cell_type": "markdown",
          "metadata": {
          },
          "source": "<p>I called the parameter <code>lam</code> because <code>lambda</code> is a Python keyword. Most implementations of <code>random.random</code> can return 0 but not 1, so 1 − <em>p</em> can be 1 but not 0, which is good, because log 0 is undefined.</p>"
        },
        {
          "cell_type": "markdown",
          "metadata": {
          },
          "source": "\n\n"
        },
        {
          "cell_type": "markdown",
          "metadata": {
          },
          "source": "<p>.</p>"
        },
        {
          "cell_type": "markdown",
          "metadata": {
          },
          "source": "\n"
        },
        {
          "cell_type": "markdown",
          "metadata": {
          },
          "source": "\n"
        },
        {
          "cell_type": "heading",
          "level": 3,
          "metadata": {
          },
          "source": ""
        },
        {
          "cell_type": "markdown",
          "metadata": {
          },
          "source": "\n\n"
        },
        {
          "cell_type": "markdown",
          "metadata": {
          },
          "source": "<p>=== Glossary</p>"
        },
        {
          "cell_type": "markdown",
          "metadata": {
          },
          "source": "\n"
        },
        {
          "cell_type": "markdown",
          "metadata": {
          },
          "source": "<dl>\n<dt>continuous distribution</dt>\n<dd>\n<p>A distribution described by a continuous function.</p>\n</dd>\n<dt>corpus</dt>\n<dd>\n<p>A body of text used as a sample of a language.</p>\n</dd>\n<dt>empirical distribution</dt>\n<dd>\n<p>The distribution of values in a sample.</p>\n</dd>\n<dt>error function</dt>\n<dd>\n<p>A special mathematical function, so named because it comes up in the study of measurement errors.</p>\n</dd>\n<dt>hapaxlegomenon</dt>\n<dd>\n<p>A word that appears only once in a corpus. It appears twice in this book, so far.</p>\n</dd>\n<dt>interarrival time</dt>\n<dd>\n<p>The elapsed time between two events.</p>\n</dd>\n<dt>model</dt>\n<dd>\n<p>A useful simplification. Continuous distributions are often good models of more complex empirical distributions.</p>\n</dd>\n<dt>normal probability plot</dt>\n<dd>\n<p>A plot of the sorted values in a sample versus the expected value for each if their distribution is normal.</p>\n</dd>\n<dt>rankit</dt>\n<dd>\n<p>The expected value of an element in a sorted list of values from a normal distribution.</p>\n</dd>\n</dl>"
        },
        {
          "cell_type": "markdown",
          "metadata": {
          },
          "source": "\n"
        },
        {
          "cell_type": "markdown",
          "metadata": {
          },
          "source": "<aside data-type=\"footnotes\"><p data-type=\"footnote\" id=\"idp1128944\"><a href=\"ch04.html#idp1128944-marker\"><sup>5</sup></a> This example is based on information and data from Dunn, “A Simple Dataset for Demonstrating Common Distributions,” Journal of Statistics Education v.7, n.3 (1999).</p>\n<p data-type=\"footnote\" id=\"idp1177184\"><a href=\"ch04.html#idp1177184-marker\"><sup>6</sup></a> As of Python 3.2, it is even easier; <code>erf</code> is in the <code>math</code> module.</p>\n<p data-type=\"footnote\" id=\"idp1217584\"><a href=\"ch04.html#idp1217584-marker\"><sup>7</sup></a> See <a href=\"http://wikipedia.org/wiki/Log-normal_distribution\">http://wikipedia.org/wiki/Log-normal_distribution</a>.</p>\n<p data-type=\"footnote\" id=\"idp1219680\"><a href=\"ch04.html#idp1219680-marker\"><sup>8</sup></a> I was tipped off to this possibility by a comment (without citation) at <a href=\"http://mathworld.wolfram.com/LogNormalDistribution.html\">http://mathworld.wolfram.com/LogNormalDistribution.html</a>. Subsequently I found a paper that proposes the log transform and suggests a cause: Penman and Johnson, “The Changing Shape of the Body Mass Index Distribution Curve in the Population,” Preventing Chronic Disease, 2006 July; 3(3): A74. Online at <a href=\"http://www.ncbi.nlm.nih.gov/pmc/articles/PMC1636707\">http://www.ncbi.nlm.nih.gov/pmc/articles/PMC1636707</a>.</p>\n<p data-type=\"footnote\" id=\"idp1218080\"><a href=\"ch04.html#idp1218080-marker\"><sup>9</sup></a> Centers for Disease Control and Prevention (CDC). Behavioral Risk Factor Surveillance System Survey Data. Atlanta, Georgia: U.S. Department of Health and Human Services, Centers for Disease Control and Prevention, 2008.</p></aside>"
        }
      ],
      "metadata": {
      }
    }
  ]
}