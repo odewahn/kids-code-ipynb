{
  "metadata": {
    "name": "Statistical Thinking for Programmers"
  },
  "nbformat": 3,
  "nbformat_minor": 0,
  "worksheets": [
    {
      "cells": [
        {
          "cell_type": "heading",
          "level": 1,
          "metadata": {
          },
          "source": "Statistical Thinking for Programmers"
        },
        {
          "cell_type": "markdown",
          "metadata": {
          },
          "source": "\n\n\n"
        },
        {
          "cell_type": "markdown",
          "metadata": {
          },
          "source": "<p>This book is about turning data into knowledge. Data is cheap (at least relatively); knowledge is harder to come by.</p>"
        },
        {
          "cell_type": "markdown",
          "metadata": {
          },
          "source": "\n\n"
        },
        {
          "cell_type": "markdown",
          "metadata": {
          },
          "source": "<p>I will present three related pieces:</p>"
        },
        {
          "cell_type": "markdown",
          "metadata": {
          },
          "source": "\n"
        },
        {
          "cell_type": "markdown",
          "metadata": {
          },
          "source": "<dl>\n<dt>Probability</dt>\n<dd>\n<p>The study of random events. Most people have an intuitive understanding of degrees of probability, which is why you can use words like “probably” and “unlikely” without special training, but we will talk about how to make quantitative claims about those degrees.</p>\n</dd>\n<dt>Statistics</dt>\n<dd>\n<p>The discipline of using data samples to support claims about populations. Most statistical analysis is based on probability, which is why these pieces are usually presented together.</p>\n</dd>\n<dt>Computation</dt>\n<dd>\n<p>A tool that is well-suited to quantitative analysis. Computers are commonly used to process statistics. Also, computational experiments are useful for exploring concepts in probability and statistics.</p>\n</dd>\n</dl>\n"
        },
        {
          "cell_type": "markdown",
          "metadata": {
          },
          "source": "<p>The thesis of this book is that if you know how to program, you can use that skill to help you understand probability and statistics. These topics are often presented from a mathematical perspective, and that approach works well for some people. But some important ideas in this area are hard to work with mathematically and relatively easy to approach computationally.</p>"
        },
        {
          "cell_type": "markdown",
          "metadata": {
          },
          "source": "\n\n"
        },
        {
          "cell_type": "markdown",
          "metadata": {
          },
          "source": "<p>The rest of this chapter presents a case study motivated by a question I heard when my wife and I were expecting our first child: do first babies tend to arrive late?</p>"
        },
        {
          "cell_type": "markdown",
          "metadata": {
          },
          "source": "\n\n\n\n\n\n\n"
        },
        {
          "cell_type": "heading",
          "level": 2,
          "metadata": {
          },
          "source": "Do First Babies Arrive Late?"
        },
        {
          "cell_type": "markdown",
          "metadata": {
          },
          "source": "\n\n"
        },
        {
          "cell_type": "markdown",
          "metadata": {
          },
          "source": "<p>If you Google this question, you will find plenty of discussion. Some people claim it’s true, others say it’s a myth, and some people say it’s the other way around: first babies come early.</p>"
        },
        {
          "cell_type": "markdown",
          "metadata": {
          },
          "source": "\n\n"
        },
        {
          "cell_type": "markdown",
          "metadata": {
          },
          "source": "<p>In many of these discussions, people provide data to support their claims. I found many examples like these:</p>"
        },
        {
          "cell_type": "markdown",
          "metadata": {
          },
          "source": "\n\n"
        },
        {
          "cell_type": "markdown",
          "metadata": {
          },
          "source": "<p>“My two friends that have given birth recently to their first babies, BOTH went almost 2 weeks overdue before going into labor or being induced.”</p>"
        },
        {
          "cell_type": "markdown",
          "metadata": {
          },
          "source": "\n\n"
        },
        {
          "cell_type": "markdown",
          "metadata": {
          },
          "source": "<p>“My first one came 2 weeks late and now I think the second one is going to come out two weeks early!!”</p>"
        },
        {
          "cell_type": "markdown",
          "metadata": {
          },
          "source": "\n\n"
        },
        {
          "cell_type": "markdown",
          "metadata": {
          },
          "source": "<p>“I don’t think that can be true because my sister was my mother’s first and she was early, as with many of my cousins.”</p>"
        },
        {
          "cell_type": "markdown",
          "metadata": {
          },
          "source": "\n\n"
        },
        {
          "cell_type": "markdown",
          "metadata": {
          },
          "source": "<p>Reports like these are called <em>anecdotal evidence</em> because they are based on data that is unpublished and usually personal. In casual conversation, there is nothing wrong with anecdotes, so I don’t mean to pick on the people I quoted.</p>"
        },
        {
          "cell_type": "markdown",
          "metadata": {
          },
          "source": "\n\n"
        },
        {
          "cell_type": "markdown",
          "metadata": {
          },
          "source": "<p>But we might want evidence that is more persuasive and an answer that is more reliable. By those standards, anecdotal evidence usually fails, because:</p>"
        },
        {
          "cell_type": "markdown",
          "metadata": {
          },
          "source": "\n"
        },
        {
          "cell_type": "markdown",
          "metadata": {
          },
          "source": "<dl>\n<dt>Small number of observations</dt>\n<dd>\n<p>If the gestation period is longer for first babies, the difference is probably small compared to the natural variation. In that case, we might have to compare a large number of pregnancies to be sure that a difference exists.</p>\n</dd>\n<dt>Selection bias</dt>\n<dd>\n<p>People who join a discussion of this question might be interested because their first babies were late. In that case, the process of selecting data would bias the results.</p>\n</dd>\n<dt>Confirmation bias</dt>\n<dd>\n<p>People who believe the claim might be more likely to contribute examples that confirm it. People who doubt the claim are more likely to cite counterexamples.</p>\n</dd>\n<dt>Inaccuracy</dt>\n<dd>\n<p>Anecdotes are often personal stories, and often misremembered, misrepresented, repeated inaccurately, etc.</p>\n</dd>\n</dl>\n"
        },
        {
          "cell_type": "markdown",
          "metadata": {
          },
          "source": "<p>So how can we do better?</p>"
        },
        {
          "cell_type": "markdown",
          "metadata": {
          },
          "source": "\n"
        },
        {
          "cell_type": "heading",
          "level": 2,
          "metadata": {
          },
          "source": "A Statistical Approach"
        },
        {
          "cell_type": "markdown",
          "metadata": {
          },
          "source": "\n\n"
        },
        {
          "cell_type": "markdown",
          "metadata": {
          },
          "source": "<p>To address the limitations of anecdotes, we will use the tools of statistics, which include:</p>"
        },
        {
          "cell_type": "markdown",
          "metadata": {
          },
          "source": "\n"
        },
        {
          "cell_type": "markdown",
          "metadata": {
          },
          "source": "<dl>\n<dt>Data collection</dt>\n<dd>\n<p>We will use data from a large national survey that was designed explicitly with the goal of generating statistically valid inferences about the U.S. population.</p>\n</dd>\n<dt>Descriptive statistics</dt>\n<dd>\n<p>We will generate statistics that summarize the data concisely, and evaluate different ways to visualize data.</p>\n</dd>\n<dt>Exploratory data analysis</dt>\n<dd>\n<p>We will look for patterns, differences, and other features that address the questions we are interested in. At the same time, we will check for inconsistencies and identify limitations.</p>\n</dd>\n<dt>Hypothesis testing</dt>\n<dd>\n<p>Where we see apparent effects, like a difference between two groups, we will evaluate whether the effect is real, or whether it might have happened by chance.</p>\n</dd>\n<dt>Estimation</dt>\n<dd>\n<p>We will use data from a sample to estimate characteristics of the general population.</p>\n</dd>\n</dl>\n"
        },
        {
          "cell_type": "markdown",
          "metadata": {
          },
          "source": "<p>By performing these steps with care to avoid pitfalls, we can reach conclusions that are more justifiable and more likely to be correct.</p>"
        },
        {
          "cell_type": "markdown",
          "metadata": {
          },
          "source": "\n"
        },
        {
          "cell_type": "heading",
          "level": 2,
          "metadata": {
          },
          "source": "The National Survey of Family Growth"
        },
        {
          "cell_type": "markdown",
          "metadata": {
          },
          "source": "\n\n"
        },
        {
          "cell_type": "markdown",
          "metadata": {
          },
          "source": "<p>Since 1973, the U.S. Centers for Disease Control and Prevention (CDC) have conducted the National Survey of Family Growth (NSFG), which is intended to gather “information on family life, marriage and divorce, pregnancy, infertility, use of contraception, and men’s and women’s health. The survey results are used … to plan health services and health education programs, and to do statistical studies of families, fertility, and health.”<a data-type=\"noteref\" id=\"idp755328-marker\" href=\"ch01.html#idp755328\"><sup>1</sup></a></p>"
        },
        {
          "cell_type": "markdown",
          "metadata": {
          },
          "source": "\n\n"
        },
        {
          "cell_type": "markdown",
          "metadata": {
          },
          "source": "<p>We will use data collected by this survey to investigate whether first babies tend to come late, and other questions. In order to use this data effectively, we have to understand the design of the study.</p>"
        },
        {
          "cell_type": "markdown",
          "metadata": {
          },
          "source": "\n\n"
        },
        {
          "cell_type": "markdown",
          "metadata": {
          },
          "source": "<p>The NSFG is a <em>cross-sectional</em> study, which means that it captures a snapshot of a group at a point in time. The most common alternative is a <em>longitudinal</em> study, which observes a group repeatedly over a period of time.</p>"
        },
        {
          "cell_type": "markdown",
          "metadata": {
          },
          "source": "\n\n"
        },
        {
          "cell_type": "markdown",
          "metadata": {
          },
          "source": "<p>The NSFG has been conducted seven times; each deployment is called a <em>cycle</em>. We will be using data from Cycle 6, which was conducted from January 2002 to March 2003.</p>"
        },
        {
          "cell_type": "markdown",
          "metadata": {
          },
          "source": "\n\n"
        },
        {
          "cell_type": "markdown",
          "metadata": {
          },
          "source": "<p>The goal of the survey is to draw conclusions about a <em>population</em>; the target population of the NSFG is people in the United States aged 15–44.</p>"
        },
        {
          "cell_type": "markdown",
          "metadata": {
          },
          "source": "\n\n"
        },
        {
          "cell_type": "markdown",
          "metadata": {
          },
          "source": "<p>The people who participate in a survey are called <em>respondents</em>; a group of respondents is called a <em>cohort</em>. In general, cross-sectional studies are meant to be <em>representative</em>, which means that every member of the target population has an equal chance of participating. Of course, that ideal is hard to achieve in practice, but people who conduct surveys come as close as they can.</p>"
        },
        {
          "cell_type": "markdown",
          "metadata": {
          },
          "source": "\n\n"
        },
        {
          "cell_type": "markdown",
          "metadata": {
          },
          "source": "<p>The NSFG is not representative; instead, it is deliberately <em>oversampled</em>. The designers of the study recruited three groups—Hispanics, African-Americans, and teenagers—at rates higher than their representation in the U.S. population. The reason for oversampling is to make sure that the number of respondents in each of these groups is large enough to draw valid statistical inferences.</p>"
        },
        {
          "cell_type": "markdown",
          "metadata": {
          },
          "source": "\n\n"
        },
        {
          "cell_type": "markdown",
          "metadata": {
          },
          "source": "<p>Of course, the drawback of oversampling is that it is not as easy to draw conclusions about the general population based on statistics from the survey. We will come back to this point later.</p>"
        },
        {
          "cell_type": "markdown",
          "metadata": {
          },
          "source": "\n\n"
        },
        {
          "cell_type": "markdown",
          "metadata": {
          },
          "source": "<p>.</p>"
        },
        {
          "cell_type": "markdown",
          "metadata": {
          },
          "source": "\n"
        },
        {
          "cell_type": "markdown",
          "metadata": {
          },
          "source": "\n"
        },
        {
          "cell_type": "heading",
          "level": 3,
          "metadata": {
          },
          "source": ""
        },
        {
          "cell_type": "markdown",
          "metadata": {
          },
          "source": "\n\n"
        },
        {
          "cell_type": "markdown",
          "metadata": {
          },
          "source": "<p>.</p>"
        },
        {
          "cell_type": "markdown",
          "metadata": {
          },
          "source": "\n"
        },
        {
          "cell_type": "heading",
          "level": 2,
          "metadata": {
          },
          "source": "Tables and Records"
        },
        {
          "cell_type": "markdown",
          "metadata": {
          },
          "source": "\n\n"
        },
        {
          "cell_type": "markdown",
          "metadata": {
          },
          "source": "<p>The poet-philosopher Steve Martin once said:</p>"
        },
        {
          "cell_type": "markdown",
          "metadata": {
          },
          "source": "\n\n"
        },
        {
          "cell_type": "markdown",
          "metadata": {
          },
          "source": "<p>“Oeuf” means egg, “chapeau” means hat. It’s like those French have a different word for everything.</p>"
        },
        {
          "cell_type": "markdown",
          "metadata": {
          },
          "source": "\n\n"
        },
        {
          "cell_type": "markdown",
          "metadata": {
          },
          "source": "<p>Like the French, database programmers speak a slightly different language, and since we’re working with a database, we need to learn some vocabulary.</p>"
        },
        {
          "cell_type": "markdown",
          "metadata": {
          },
          "source": "\n\n"
        },
        {
          "cell_type": "markdown",
          "metadata": {
          },
          "source": "<p>Each line in the respondents file contains information about one respondent. This information is called a <em>record</em>. The variables that make up a record are called <em>fields</em>. A collection of records is called a <em>table</em>.</p>"
        },
        {
          "cell_type": "markdown",
          "metadata": {
          },
          "source": "\n\n"
        },
        {
          "cell_type": "markdown",
          "metadata": {
          },
          "source": "<p>If you read <code>survey.py</code>, you will see class definitions for <code>Record</code>, which is an object that represents a record, and <code>Table</code>, which represents a table.</p>"
        },
        {
          "cell_type": "markdown",
          "metadata": {
          },
          "source": "\n\n"
        },
        {
          "cell_type": "markdown",
          "metadata": {
          },
          "source": "<p>There are two subclasses of <code>Record</code>—<code>Respondent</code> and <code>Pregnancy</code>—which contain records from the respondent and pregnancy tables. For the time being, these classes are empty; in particular, there is no init method to initialize their attributes. Instead, we will use <code>Table.MakeRecord</code> to convert a line of text into a <code>Record</code> object.</p>"
        },
        {
          "cell_type": "markdown",
          "metadata": {
          },
          "source": "\n\n"
        },
        {
          "cell_type": "markdown",
          "metadata": {
          },
          "source": "<p>There are also two subclasses of <code>Table</code>: <code>Respondents</code> and <code>Pregnancies</code>. The init method in each class specifies the default name of the data file and the type of record to create. Each <code>Table</code> object has an attribute named <code>records</code>, which is a list of <code>Record</code> objects.</p>"
        },
        {
          "cell_type": "markdown",
          "metadata": {
          },
          "source": "\n\n"
        },
        {
          "cell_type": "markdown",
          "metadata": {
          },
          "source": "<p>For each <code>Table</code>, the <code>GetFields</code> method returns a list of tuples that specify the fields from the record that will be stored as attributes in each <code>Record</code> object. (You might want to read that last sentence twice.)</p>"
        },
        {
          "cell_type": "markdown",
          "metadata": {
          },
          "source": "\n\n"
        },
        {
          "cell_type": "markdown",
          "metadata": {
          },
          "source": "<p>For example, here is <code>Pregnancies.GetFields</code>:</p>"
        },
        {
          "cell_type": "markdown",
          "metadata": {
          },
          "source": "\n\n\n"
        },
        {
          "cell_type": "code",
          "collapsed": false,
          "input": "def GetFields(self):\n        return [\n            ('caseid', 1, 12, int),\n            ('prglength', 275, 276, int),\n            ('outcome', 277, 277, int),\n            ('birthord', 278, 279, int),\n            ('finalwgt', 423, 440, float),\n            ]",
          "language": "python",
          "metadata": {
          },
          "outputs": [

          ]
        },
        {
          "cell_type": "markdown",
          "metadata": {
          },
          "source": "\n\n\n"
        },
        {
          "cell_type": "markdown",
          "metadata": {
          },
          "source": "<p>The first tuple says that the field <code>caseid</code> is in columns 1 through 12 and it’s an integer. Each tuple contains the following information:</p>"
        },
        {
          "cell_type": "markdown",
          "metadata": {
          },
          "source": "\n"
        },
        {
          "cell_type": "markdown",
          "metadata": {
          },
          "source": "<dl>\n<dt>field</dt>\n<dd>\n<p>The name of the attribute where the field will be stored. Most of the time, I use the name from the NSFG codebook, converted to all lowercase.</p>\n</dd>\n<dt>start</dt>\n<dd>\n<p>The index of the starting column for this field. For example, the start index for <code>caseid</code> is 1. You can look up these indices in the NSFG codebook at <a href=\"http://nsfg.icpsr.umich.edu/cocoon/WebDocs/NSFG/public/index.htm\">http://nsfg.icpsr.umich.edu/cocoon/WebDocs/NSFG/public/index.htm</a>.</p>\n</dd>\n<dt>end</dt>\n<dd>\n<p>The index of the ending column for this field; for example, the end index for <code>caseid</code> is 12. Unlike in Python, the end index is <em>inclusive</em>.</p>\n</dd>\n<dt>conversion function</dt>\n<dd>\n<p>A function that takes a string and converts it to an appropriate type. You can use built-in functions, like <code>int</code> and <code>float</code>, or user-defined functions. If the conversion fails, the attribute gets the string value <code>’NA’</code>. If you don’t want to convert a field, you can provide an identity function or use <code>str</code>.</p>\n</dd>\n</dl>\n"
        },
        {
          "cell_type": "markdown",
          "metadata": {
          },
          "source": "<p>For pregnancy records, we extract the following variables:</p>"
        },
        {
          "cell_type": "markdown",
          "metadata": {
          },
          "source": "\n"
        },
        {
          "cell_type": "markdown",
          "metadata": {
          },
          "source": "<dl>\n<dt>caseid</dt>\n<dd>\n<p>The integer ID of the respondent.</p>\n</dd>\n<dt>prglength</dt>\n<dd>\n<p>The integer duration of the pregnancy in weeks.</p>\n</dd>\n<dt>outcome</dt>\n<dd>\n<p>An integer code for the outcome of the pregnancy. The code 1 indicates a live birth.</p>\n</dd>\n<dt>birthord</dt>\n<dd>\n<p>The integer birth order of each live birth; for example, the code for a first child is 1. For outcomes other than live birth, this field is blank.</p>\n</dd>\n<dt>finalwgt</dt>\n<dd>\n<p>The statistical weight associated with the respondent. It is a floating-point value that indicates the number of people in the U.S. population this respondent represents. Members of oversampled groups have lower weights.</p>\n</dd>\n</dl>\n"
        },
        {
          "cell_type": "markdown",
          "metadata": {
          },
          "source": "<p>If you read the casebook carefully, you will see that most of these variables are <em>recodes</em>, which means that they are not part of the <em>raw data</em> collected by the survey, but they are calculated using the raw data.</p>"
        },
        {
          "cell_type": "markdown",
          "metadata": {
          },
          "source": "\n\n"
        },
        {
          "cell_type": "markdown",
          "metadata": {
          },
          "source": "<p>For example, <code>prglength</code> for live births is equal to the raw variable <code>wksgest</code> (weeks of gestation) if it is available; otherwise, it is estimated using <code>mosgest \\*\n    4.33</code> (months of gestation times the average number of weeks in a month).</p>"
        },
        {
          "cell_type": "markdown",
          "metadata": {
          },
          "source": "\n\n"
        },
        {
          "cell_type": "markdown",
          "metadata": {
          },
          "source": "<p>Recodes are often based on logic that checks the consistency and accuracy of the data. In general it is a good idea to use recodes unless there is a compelling reason to process the raw data yourself.</p>"
        },
        {
          "cell_type": "markdown",
          "metadata": {
          },
          "source": "\n\n"
        },
        {
          "cell_type": "markdown",
          "metadata": {
          },
          "source": "<p>You might also notice that <code>Pregnancies</code> has a method called <code>Recode</code> that does some additional checking and recoding.</p>"
        },
        {
          "cell_type": "markdown",
          "metadata": {
          },
          "source": "\n\n"
        },
        {
          "cell_type": "markdown",
          "metadata": {
          },
          "source": "<p>.</p>"
        },
        {
          "cell_type": "markdown",
          "metadata": {
          },
          "source": "\n"
        },
        {
          "cell_type": "markdown",
          "metadata": {
          },
          "source": "\n"
        },
        {
          "cell_type": "heading",
          "level": 3,
          "metadata": {
          },
          "source": ""
        },
        {
          "cell_type": "markdown",
          "metadata": {
          },
          "source": "\n\n"
        },
        {
          "cell_type": "markdown",
          "metadata": {
          },
          "source": "<p>=== Significance</p>"
        },
        {
          "cell_type": "markdown",
          "metadata": {
          },
          "source": "\n\n"
        },
        {
          "cell_type": "markdown",
          "metadata": {
          },
          "source": "<p>In the previous exercise, you compared the gestation period for first babies and others; if things worked out, you found that first babies are born about 13 hours later, on average.</p>"
        },
        {
          "cell_type": "markdown",
          "metadata": {
          },
          "source": "\n\n"
        },
        {
          "cell_type": "markdown",
          "metadata": {
          },
          "source": "<p>A difference like that is called an <em>apparent effect</em>; that is, there might be something going on, but we are not yet sure. There are several questions we still want to ask:</p>"
        },
        {
          "cell_type": "markdown",
          "metadata": {
          },
          "source": "\n"
        },
        {
          "cell_type": "markdown",
          "metadata": {
          },
          "source": "<ul>\n<li>\n<p>If the two groups have different means, what about other <em>summary statistics</em>, like median and variance? Can we be more precise about how the groups differ?</p>\n</li>\n<li>\n<p>Is it possible that the difference we saw could occur by chance, even if the groups we compared were actually the same? If so, we would conclude that the effect was not <em>statistically significant</em>.</p>\n</li>\n<li>\n<p>Is it possible that the apparent effect is due to selection bias or some other error in the experimental setup? If so, then we might conclude that the effect is an <em>artifact</em>; that is, something we created (by accident) rather than found.</p>\n</li>\n</ul>\n"
        },
        {
          "cell_type": "markdown",
          "metadata": {
          },
          "source": "<p>Answering these questions will take most of the rest of this book.</p>"
        },
        {
          "cell_type": "markdown",
          "metadata": {
          },
          "source": "\n\n"
        },
        {
          "cell_type": "markdown",
          "metadata": {
          },
          "source": "<p>.</p>"
        },
        {
          "cell_type": "markdown",
          "metadata": {
          },
          "source": "\n"
        },
        {
          "cell_type": "heading",
          "level": 2,
          "metadata": {
          },
          "source": "Glossary"
        },
        {
          "cell_type": "markdown",
          "metadata": {
          },
          "source": "\n"
        },
        {
          "cell_type": "markdown",
          "metadata": {
          },
          "source": "<dl>\n<dt>anecdotal evidence</dt>\n<dd>\n<p>Evidence, often personal, that is collected casually rather than by a well-designed study.</p>\n</dd>\n<dt>apparent effect</dt>\n<dd>\n<p>A measurement or summary statistic that suggests that something interesting is happening.</p>\n</dd>\n<dt>artifact</dt>\n<dd>\n<p>An apparent effect that is caused by bias, measurement error, or some other kind of error.</p>\n</dd>\n<dt>cohort</dt>\n<dd>\n<p>A group of respondents.</p>\n</dd>\n<dt>cross-sectional study</dt>\n<dd>\n<p>A study that collects data about a population at a particular point in time.</p>\n</dd>\n<dt>field</dt>\n<dd>\n<p>In a database, one of the named variables that makes up a record.</p>\n</dd>\n<dt>longitudinal study</dt>\n<dd>\n<p>A study that follows a population over time, collecting data from the same group repeatedly.</p>\n</dd>\n<dt>oversampling</dt>\n<dd>\n<p>The technique of increasing the representation of a sub-population in order to avoid errors due to small sample sizes.</p>\n</dd>\n<dt>population</dt>\n<dd>\n<p>A group we are interested in studying, often a group of people, but the term is also used for animals, vegetables, and minerals.<a data-type=\"noteref\" id=\"idp833680-marker\" href=\"ch01.html#idp833680\"><sup>2</sup></a></p>\n</dd>\n<dt>raw data</dt>\n<dd>\n<p>Values collected and recorded with little or no checking, calculation, or interpretation.</p>\n</dd>\n<dt>recode</dt>\n<dd>\n<p>A value that is generated by calculation and other logic applied to raw data.</p>\n</dd>\n<dt>record</dt>\n<dd>\n<p>In a database, a collection of information about a single person or other object of study.</p>\n</dd>\n<dt>representative</dt>\n<dd>\n<p>A sample is representative if every member of the population has the same chance of being in the sample.</p>\n</dd>\n<dt>respondent</dt>\n<dd>\n<p>A person who responds to a survey.</p>\n</dd>\n<dt>sample</dt>\n<dd>\n<p>The subset of a population used to collect data.</p>\n</dd>\n<dt>statistically significant</dt>\n<dd>\n<p>An apparent effect is statistically significant if it is unlikely to occur by chance.</p>\n<dl>\n<dt>summary statistic</dt>\n<dd>\n<p>The result of a computation that reduces a dataset to a single number (or at least a smaller set of numbers) that captures some characteristic of the data.</p>\n</dd>\n</dl>\n</dd>\n<dt>table</dt>\n<dd>\n<p>In a database, a collection of records.</p>\n</dd>\n</dl>"
        },
        {
          "cell_type": "markdown",
          "metadata": {
          },
          "source": "<aside data-type=\"footnotes\"><p data-type=\"footnote\" id=\"idp755328\"><a href=\"ch01.html#idp755328-marker\"><sup>1</sup></a> See <a href=\"http://cdc.gov/nchs/nsfg.htm\">http://cdc.gov/nchs/nsfg.htm</a>.</p>\n<p data-type=\"footnote\" id=\"idp833680\"><a href=\"ch01.html#idp833680-marker\"><sup>2</sup></a> If you don’t recognize this phrase, see <a href=\"http://wikipedia.org/wiki/Twenty_Questions\">http://wikipedia.org/wiki/Twenty_Questions</a>.</p></aside>"
        }
      ],
      "metadata": {
      }
    }
  ]
}