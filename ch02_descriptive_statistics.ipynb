{
 "metadata": {
  "name": ""
 },
 "nbformat": 3,
 "nbformat_minor": 0,
 "worksheets": [
  {
   "cells": [
    {
     "cell_type": "heading",
     "level": 1,
     "metadata": {},
     "source": [
      "Descriptive Statistics"
     ]
    },
    {
     "cell_type": "markdown",
     "metadata": {},
     "source": [
      "\n",
      "\n",
      "\n",
      "\n",
      "\n",
      "\n",
      "\n",
      "\n"
     ]
    },
    {
     "cell_type": "heading",
     "level": 2,
     "metadata": {},
     "source": [
      "Means and Averages"
     ]
    },
    {
     "cell_type": "markdown",
     "metadata": {},
     "source": [
      "\n",
      "\n"
     ]
    },
    {
     "cell_type": "markdown",
     "metadata": {},
     "source": [
      "<p>In the previous chapter, I mentioned three summary statistics\u2014mean, variance, and median\u2014without explaining what they are. So before we go any farther, let\u2019s take care of that.</p>"
     ]
    },
    {
     "cell_type": "markdown",
     "metadata": {},
     "source": [
      "\n",
      "\n"
     ]
    },
    {
     "cell_type": "markdown",
     "metadata": {},
     "source": [
      "<p>If you have a sample of <em>n</em>\u00a0values, <em>x</em> <em>i</em>, the mean, <em>\u03bc</em>, is the sum of the values divided by the number of values; in other words</p>"
     ]
    },
    {
     "cell_type": "markdown",
     "metadata": {},
     "source": [
      "\n",
      "\n"
     ]
    },
    {
     "cell_type": "markdown",
     "metadata": {},
     "source": [
      "<p>The words \u201cmean\u201d and \u201caverage\u201d are sometimes used interchangeably, but I will maintain this distinction:</p>"
     ]
    },
    {
     "cell_type": "markdown",
     "metadata": {},
     "source": [
      "\n"
     ]
    },
    {
     "cell_type": "markdown",
     "metadata": {},
     "source": [
      "<ul>\n",
      "<li>\n",
      "<p>The \u201cmean\u201d of a sample is the summary statistic computed with the previous formula.</p>\n",
      "</li>\n",
      "<li>\n",
      "<p>An \u201caverage\u201d is one of many summary statistics you might choose to describe the typical value or the <em>central tendency</em> of a sample.</p>\n",
      "</li>\n",
      "</ul>\n"
     ]
    },
    {
     "cell_type": "markdown",
     "metadata": {},
     "source": [
      "<p>Sometimes the mean is a good description of a set of values. For example, apples are all pretty much the same size (at least the ones sold in supermarkets). So if I buy six apples and the total weight is three pounds, it would be reasonable to conclude that they are about a half pound each.</p>"
     ]
    },
    {
     "cell_type": "markdown",
     "metadata": {},
     "source": [
      "\n",
      "\n"
     ]
    },
    {
     "cell_type": "markdown",
     "metadata": {},
     "source": [
      "<p>But pumpkins are more diverse. Suppose I grow several varieties in my garden, and one day I harvest three decorative pumpkins that are one pound each, two pie pumpkins that are three pounds each, and one Atlantic Giant\u00a0pumpkin that weighs 591 pounds. The mean of this sample is 100 pounds, but if I told you \u201cThe average pumpkin in my garden is 100 pounds,\u201d that would be wrong, or at least misleading.</p>"
     ]
    },
    {
     "cell_type": "markdown",
     "metadata": {},
     "source": [
      "\n",
      "\n"
     ]
    },
    {
     "cell_type": "markdown",
     "metadata": {},
     "source": [
      "<p>In this example, there is no meaningful average because there is no typical pumpkin.</p>"
     ]
    },
    {
     "cell_type": "markdown",
     "metadata": {},
     "source": [
      "\n"
     ]
    },
    {
     "cell_type": "heading",
     "level": 2,
     "metadata": {},
     "source": [
      "Variance"
     ]
    },
    {
     "cell_type": "markdown",
     "metadata": {},
     "source": [
      "\n",
      "\n"
     ]
    },
    {
     "cell_type": "markdown",
     "metadata": {},
     "source": [
      "<p>If there is no single number that summarizes pumpkin weights, we can do a little better with two numbers: mean and <em>variance</em>.</p>"
     ]
    },
    {
     "cell_type": "markdown",
     "metadata": {},
     "source": [
      "\n",
      "\n"
     ]
    },
    {
     "cell_type": "markdown",
     "metadata": {},
     "source": [
      "<p>In the same way that the mean is intended to describe the central tendency, variance is intended to describe the <em>spread</em>. The variance of a set of values is</p>"
     ]
    },
    {
     "cell_type": "markdown",
     "metadata": {},
     "source": [
      "\n",
      "\n"
     ]
    },
    {
     "cell_type": "markdown",
     "metadata": {},
     "source": [
      "<p>The term <em>x</em> <em>i</em>-<em>\u03bc</em>\u00a0is called the \u201cdeviation from the mean,\u201d so variance is the mean squared deviation, which is why it is denoted <em>\u03c3__2</em>. The square root of variance, <em>\u03c3</em>, is called the <em>standard deviation</em>.</p>"
     ]
    },
    {
     "cell_type": "markdown",
     "metadata": {},
     "source": [
      "\n",
      "\n"
     ]
    },
    {
     "cell_type": "markdown",
     "metadata": {},
     "source": [
      "<p>By itself, variance is hard to interpret. One problem is that the units are strange; in this case, the measurements are in pounds, so the variance is in pounds squared. Standard deviation is more meaningful; in this case, the units are pounds.</p>"
     ]
    },
    {
     "cell_type": "markdown",
     "metadata": {},
     "source": [
      "\n",
      "\n"
     ]
    },
    {
     "cell_type": "markdown",
     "metadata": {},
     "source": [
      "<p>.</p>"
     ]
    },
    {
     "cell_type": "markdown",
     "metadata": {},
     "source": [
      "\n"
     ]
    },
    {
     "cell_type": "markdown",
     "metadata": {},
     "source": [
      "\n"
     ]
    },
    {
     "cell_type": "heading",
     "level": 3,
     "metadata": {},
     "source": []
    },
    {
     "cell_type": "markdown",
     "metadata": {},
     "source": [
      "\n",
      "\n"
     ]
    },
    {
     "cell_type": "markdown",
     "metadata": {},
     "source": [
      "<p>.</p>"
     ]
    },
    {
     "cell_type": "markdown",
     "metadata": {},
     "source": [
      "\n",
      "\n"
     ]
    },
    {
     "cell_type": "markdown",
     "metadata": {},
     "source": [
      "<p>If you have prior experience, you might have seen a formula for variance with <em>n</em>\u00a0\u2212\u00a01 in the denominator, rather than <em>n</em>. This statistic is called the \u201csample variance,\u201d and it is used to estimate the variance in a population using a sample. We will come back to this in <a data-type=\"xref\" href=\"ch07.html#estimation\">Chapter\u00a07</a>.</p>"
     ]
    },
    {
     "cell_type": "markdown",
     "metadata": {},
     "source": [
      "\n"
     ]
    },
    {
     "cell_type": "heading",
     "level": 2,
     "metadata": {},
     "source": [
      "Distributions"
     ]
    },
    {
     "cell_type": "markdown",
     "metadata": {},
     "source": [
      "\n",
      "\n"
     ]
    },
    {
     "cell_type": "markdown",
     "metadata": {},
     "source": [
      "<p>Summary statistics are concise, but dangerous, because they obscure the data. An alternative is to look at the <em>distribution</em> of the data, which describes how often each value appears.</p>"
     ]
    },
    {
     "cell_type": "markdown",
     "metadata": {},
     "source": [
      "\n",
      "\n"
     ]
    },
    {
     "cell_type": "markdown",
     "metadata": {},
     "source": [
      "<p>The most common representation of a distribution is a <em>histogram</em>, which is a graph that shows the frequency or probability of each value.</p>"
     ]
    },
    {
     "cell_type": "markdown",
     "metadata": {},
     "source": [
      "\n",
      "\n"
     ]
    },
    {
     "cell_type": "markdown",
     "metadata": {},
     "source": [
      "<p>In this context, <em>frequency</em> means the number of times a value appears in a dataset\u2014it has nothing to do with the pitch of a sound or tuning of a radio signal. A <em>probability</em> is a frequency expressed as a fraction of the sample size, <em>n</em>.</p>"
     ]
    },
    {
     "cell_type": "markdown",
     "metadata": {},
     "source": [
      "\n",
      "\n"
     ]
    },
    {
     "cell_type": "markdown",
     "metadata": {},
     "source": [
      "<p>In Python, an efficient way to compute frequencies is with a dictionary. Given a sequence of values, <code>t</code>:</p>"
     ]
    },
    {
     "cell_type": "markdown",
     "metadata": {},
     "source": [
      "\n",
      "\n",
      "\n"
     ]
    },
    {
     "cell_type": "code",
     "collapsed": false,
     "input": [
      "hist = {}\n",
      "for x in t:\n",
      "    hist[x] = hist.get(x, 0) + 1"
     ],
     "language": "python",
     "metadata": {},
     "outputs": [
      {
       "ename": "NameError",
       "evalue": "name 't' is not defined",
       "output_type": "pyerr",
       "traceback": [
        "\u001b[1;31m---------------------------------------------------------------------------\u001b[0m\n\u001b[1;31mNameError\u001b[0m                                 Traceback (most recent call last)",
        "\u001b[1;32m<ipython-input-1-c85790af24ba>\u001b[0m in \u001b[0;36m<module>\u001b[1;34m()\u001b[0m\n\u001b[0;32m      1\u001b[0m \u001b[0mhist\u001b[0m \u001b[1;33m=\u001b[0m \u001b[1;33m{\u001b[0m\u001b[1;33m}\u001b[0m\u001b[1;33m\u001b[0m\u001b[0m\n\u001b[1;32m----> 2\u001b[1;33m \u001b[1;32mfor\u001b[0m \u001b[0mx\u001b[0m \u001b[1;32min\u001b[0m \u001b[0mt\u001b[0m\u001b[1;33m:\u001b[0m\u001b[1;33m\u001b[0m\u001b[0m\n\u001b[0m\u001b[0;32m      3\u001b[0m     \u001b[0mhist\u001b[0m\u001b[1;33m[\u001b[0m\u001b[0mx\u001b[0m\u001b[1;33m]\u001b[0m \u001b[1;33m=\u001b[0m \u001b[0mhist\u001b[0m\u001b[1;33m.\u001b[0m\u001b[0mget\u001b[0m\u001b[1;33m(\u001b[0m\u001b[0mx\u001b[0m\u001b[1;33m,\u001b[0m \u001b[1;36m0\u001b[0m\u001b[1;33m)\u001b[0m \u001b[1;33m+\u001b[0m \u001b[1;36m1\u001b[0m\u001b[1;33m\u001b[0m\u001b[0m\n",
        "\u001b[1;31mNameError\u001b[0m: name 't' is not defined"
       ]
      }
     ],
     "prompt_number": 1
    },
    {
     "cell_type": "markdown",
     "metadata": {},
     "source": [
      "\n",
      "\n",
      "\n"
     ]
    },
    {
     "cell_type": "markdown",
     "metadata": {},
     "source": [
      "<p>The result is a dictionary that maps from values to frequencies. To get from frequencies to probabilities, we divide through by <em>n</em>, which is called <em>normalization</em>:</p>"
     ]
    },
    {
     "cell_type": "markdown",
     "metadata": {},
     "source": [
      "\n",
      "\n",
      "\n"
     ]
    },
    {
     "cell_type": "code",
     "collapsed": false,
     "input": [
      "n = float(len(t))\n",
      "pmf = {}\n",
      "for x, freq in hist.items():\n",
      "    pmf[x] = freq / n"
     ],
     "language": "python",
     "metadata": {},
     "outputs": [
      {
       "ename": "NameError",
       "evalue": "name 't' is not defined",
       "output_type": "pyerr",
       "traceback": [
        "\u001b[1;31m---------------------------------------------------------------------------\u001b[0m\n\u001b[1;31mNameError\u001b[0m                                 Traceback (most recent call last)",
        "\u001b[1;32m<ipython-input-2-fe95e7227c12>\u001b[0m in \u001b[0;36m<module>\u001b[1;34m()\u001b[0m\n\u001b[1;32m----> 1\u001b[1;33m \u001b[0mn\u001b[0m \u001b[1;33m=\u001b[0m \u001b[0mfloat\u001b[0m\u001b[1;33m(\u001b[0m\u001b[0mlen\u001b[0m\u001b[1;33m(\u001b[0m\u001b[0mt\u001b[0m\u001b[1;33m)\u001b[0m\u001b[1;33m)\u001b[0m\u001b[1;33m\u001b[0m\u001b[0m\n\u001b[0m\u001b[0;32m      2\u001b[0m \u001b[0mpmf\u001b[0m \u001b[1;33m=\u001b[0m \u001b[1;33m{\u001b[0m\u001b[1;33m}\u001b[0m\u001b[1;33m\u001b[0m\u001b[0m\n\u001b[0;32m      3\u001b[0m \u001b[1;32mfor\u001b[0m \u001b[0mx\u001b[0m\u001b[1;33m,\u001b[0m \u001b[0mfreq\u001b[0m \u001b[1;32min\u001b[0m \u001b[0mhist\u001b[0m\u001b[1;33m.\u001b[0m\u001b[0mitems\u001b[0m\u001b[1;33m(\u001b[0m\u001b[1;33m)\u001b[0m\u001b[1;33m:\u001b[0m\u001b[1;33m\u001b[0m\u001b[0m\n\u001b[0;32m      4\u001b[0m     \u001b[0mpmf\u001b[0m\u001b[1;33m[\u001b[0m\u001b[0mx\u001b[0m\u001b[1;33m]\u001b[0m \u001b[1;33m=\u001b[0m \u001b[0mfreq\u001b[0m \u001b[1;33m/\u001b[0m \u001b[0mn\u001b[0m\u001b[1;33m\u001b[0m\u001b[0m\n",
        "\u001b[1;31mNameError\u001b[0m: name 't' is not defined"
       ]
      }
     ],
     "prompt_number": 2
    },
    {
     "cell_type": "markdown",
     "metadata": {},
     "source": [
      "\n",
      "\n",
      "\n"
     ]
    },
    {
     "cell_type": "markdown",
     "metadata": {},
     "source": [
      "<p>The normalized histogram is called a <em>PMF</em>, which stands for \u201cprobability mass function\u201d; that is, it\u2019s a function that maps from values to probabilities (I\u2019ll explain \u201cmass\u201d in <a data-type=\"xref\" href=\"#expo_pdf\">???</a>).</p>"
     ]
    },
    {
     "cell_type": "markdown",
     "metadata": {},
     "source": [
      "\n",
      "\n"
     ]
    },
    {
     "cell_type": "markdown",
     "metadata": {},
     "source": [
      "<p>It might be confusing to call a Python dictionary a function. In mathematics, a function is a map from one set of values to another. In Python, we <em>usually</em> represent mathematical functions with function objects, but in this case we are using a dictionary (dictionaries are also called \u201cmaps,\u201d if that helps).</p>"
     ]
    },
    {
     "cell_type": "markdown",
     "metadata": {},
     "source": [
      "\n"
     ]
    },
    {
     "cell_type": "heading",
     "level": 2,
     "metadata": {},
     "source": [
      "Representing Histograms"
     ]
    },
    {
     "cell_type": "markdown",
     "metadata": {},
     "source": [
      "\n",
      "\n"
     ]
    },
    {
     "cell_type": "markdown",
     "metadata": {},
     "source": [
      "<p>I wrote a Python module called <code>Pmf.py</code> that contains class definitions for Hist objects, which represent histograms, and Pmf objects, which represent PMFs. You can read the documentation at <a href=\"http://thinkstats.com/Pmf.html\">http://thinkstats.com/Pmf.html</a> and download the code from <a href=\"http://thinkstats.com/Pmf.py\">http://thinkstats.com/Pmf.py</a>.</p>"
     ]
    },
    {
     "cell_type": "markdown",
     "metadata": {},
     "source": [
      "\n",
      "\n"
     ]
    },
    {
     "cell_type": "markdown",
     "metadata": {},
     "source": [
      "<p>The function <code>MakeHistFromList</code> takes a list of values and returns a new Hist object. You can test it in Python\u2019s interactive mode:</p>"
     ]
    },
    {
     "cell_type": "markdown",
     "metadata": {},
     "source": [
      "\n",
      "\n",
      "\n"
     ]
    },
    {
     "cell_type": "code",
     "collapsed": false,
     "input": [
      "&gt;&gt;&gt; import Pmf\n",
      "&gt;&gt;&gt; hist = Pmf.MakeHistFromList([1, 2, 2, 3, 5])\n",
      "&gt;&gt;&gt; print hist\n",
      "&lt;Pmf.Hist object at 0xb76cf68c&gt;"
     ],
     "language": "python",
     "metadata": {},
     "outputs": []
    },
    {
     "cell_type": "markdown",
     "metadata": {},
     "source": [
      "\n",
      "\n",
      "\n"
     ]
    },
    {
     "cell_type": "markdown",
     "metadata": {},
     "source": [
      "<p><code>Pmf.Hist</code> means that this object is a member of the Hist class, which is defined in the Pmf module. In general, I use uppercase letters for the names of classes and functions, and lowercase letters for variables.</p>"
     ]
    },
    {
     "cell_type": "markdown",
     "metadata": {},
     "source": [
      "\n",
      "\n"
     ]
    },
    {
     "cell_type": "markdown",
     "metadata": {},
     "source": [
      "<p>Hist objects provide methods to look up values and their probabilities. <code>Freq</code> takes a value and returns its frequency:</p>"
     ]
    },
    {
     "cell_type": "markdown",
     "metadata": {},
     "source": [
      "\n",
      "\n",
      "\n"
     ]
    },
    {
     "cell_type": "code",
     "collapsed": false,
     "input": [
      "&gt;&gt;&gt; hist.Freq(2)\n",
      "2"
     ],
     "language": "python",
     "metadata": {},
     "outputs": []
    },
    {
     "cell_type": "markdown",
     "metadata": {},
     "source": [
      "\n",
      "\n",
      "\n"
     ]
    },
    {
     "cell_type": "markdown",
     "metadata": {},
     "source": [
      "<p>If you look up a value that has never appeared, the frequency is 0.</p>"
     ]
    },
    {
     "cell_type": "markdown",
     "metadata": {},
     "source": [
      "\n",
      "\n",
      "\n"
     ]
    },
    {
     "cell_type": "code",
     "collapsed": false,
     "input": [
      "&gt;&gt;&gt; hist.Freq(4)\n",
      "0"
     ],
     "language": "python",
     "metadata": {},
     "outputs": []
    },
    {
     "cell_type": "markdown",
     "metadata": {},
     "source": [
      "\n",
      "\n",
      "\n"
     ]
    },
    {
     "cell_type": "markdown",
     "metadata": {},
     "source": [
      "<p><code>Values</code> returns an unsorted list of the values in the Hist:</p>"
     ]
    },
    {
     "cell_type": "markdown",
     "metadata": {},
     "source": [
      "\n",
      "\n",
      "\n"
     ]
    },
    {
     "cell_type": "code",
     "collapsed": false,
     "input": [
      "&gt;&gt;&gt; hist.Values()\n",
      "[1, 5, 3, 2]"
     ],
     "language": "python",
     "metadata": {},
     "outputs": []
    },
    {
     "cell_type": "markdown",
     "metadata": {},
     "source": [
      "\n",
      "\n",
      "\n"
     ]
    },
    {
     "cell_type": "markdown",
     "metadata": {},
     "source": [
      "<p>To loop through the values in order, you can use the built-in function <code>sorted</code>:</p>"
     ]
    },
    {
     "cell_type": "markdown",
     "metadata": {},
     "source": [
      "\n",
      "\n",
      "\n"
     ]
    },
    {
     "cell_type": "code",
     "collapsed": false,
     "input": [
      "for val in sorted(hist.Values()):\n",
      "    print val, hist.Freq(val)"
     ],
     "language": "python",
     "metadata": {},
     "outputs": [
      {
       "ename": "AttributeError",
       "evalue": "'dict' object has no attribute 'Values'",
       "output_type": "pyerr",
       "traceback": [
        "\u001b[1;31m---------------------------------------------------------------------------\u001b[0m\n\u001b[1;31mAttributeError\u001b[0m                            Traceback (most recent call last)",
        "\u001b[1;32m<ipython-input-3-c66a165b68d2>\u001b[0m in \u001b[0;36m<module>\u001b[1;34m()\u001b[0m\n\u001b[1;32m----> 1\u001b[1;33m \u001b[1;32mfor\u001b[0m \u001b[0mval\u001b[0m \u001b[1;32min\u001b[0m \u001b[0msorted\u001b[0m\u001b[1;33m(\u001b[0m\u001b[0mhist\u001b[0m\u001b[1;33m.\u001b[0m\u001b[0mValues\u001b[0m\u001b[1;33m(\u001b[0m\u001b[1;33m)\u001b[0m\u001b[1;33m)\u001b[0m\u001b[1;33m:\u001b[0m\u001b[1;33m\u001b[0m\u001b[0m\n\u001b[0m\u001b[0;32m      2\u001b[0m     \u001b[1;32mprint\u001b[0m \u001b[0mval\u001b[0m\u001b[1;33m,\u001b[0m \u001b[0mhist\u001b[0m\u001b[1;33m.\u001b[0m\u001b[0mFreq\u001b[0m\u001b[1;33m(\u001b[0m\u001b[0mval\u001b[0m\u001b[1;33m)\u001b[0m\u001b[1;33m\u001b[0m\u001b[0m\n",
        "\u001b[1;31mAttributeError\u001b[0m: 'dict' object has no attribute 'Values'"
       ]
      }
     ],
     "prompt_number": 3
    },
    {
     "cell_type": "markdown",
     "metadata": {},
     "source": [
      "\n",
      "\n",
      "\n"
     ]
    },
    {
     "cell_type": "markdown",
     "metadata": {},
     "source": [
      "<p>If you are planning to look up all of the frequencies, it is more efficient to use <code>Items</code>, which returns an unsorted list of value-frequency pairs:</p>"
     ]
    },
    {
     "cell_type": "markdown",
     "metadata": {},
     "source": [
      "\n",
      "\n",
      "\n"
     ]
    },
    {
     "cell_type": "code",
     "collapsed": false,
     "input": [
      "for val, freq in hist.Items():\n",
      "     print val, freq"
     ],
     "language": "python",
     "metadata": {},
     "outputs": []
    },
    {
     "cell_type": "markdown",
     "metadata": {},
     "source": [
      "\n",
      "\n",
      "\n"
     ]
    },
    {
     "cell_type": "markdown",
     "metadata": {},
     "source": [
      "<p>.</p>"
     ]
    },
    {
     "cell_type": "markdown",
     "metadata": {},
     "source": [
      "\n"
     ]
    },
    {
     "cell_type": "markdown",
     "metadata": {},
     "source": [
      "\n"
     ]
    },
    {
     "cell_type": "heading",
     "level": 3,
     "metadata": {},
     "source": []
    },
    {
     "cell_type": "markdown",
     "metadata": {},
     "source": [
      "\n",
      "\n"
     ]
    },
    {
     "cell_type": "markdown",
     "metadata": {},
     "source": [
      "<p>=== Plotting Histograms</p>"
     ]
    },
    {
     "cell_type": "markdown",
     "metadata": {},
     "source": [
      "\n",
      "\n"
     ]
    },
    {
     "cell_type": "markdown",
     "metadata": {},
     "source": [
      "<p>There are a number of Python packages for making figures and graphs. The one I will demonstrate is <code>pyplot</code>, which is part of the <code>matplotlib</code> package at <a href=\"http://matplotlib.sourceforge.net\">http://matplotlib.sourceforge.net</a>.</p>"
     ]
    },
    {
     "cell_type": "markdown",
     "metadata": {},
     "source": [
      "\n",
      "\n"
     ]
    },
    {
     "cell_type": "markdown",
     "metadata": {},
     "source": [
      "<p>This package is included in many Python installations. To see whether you have it, launch the Python interpreter and run:</p>"
     ]
    },
    {
     "cell_type": "markdown",
     "metadata": {},
     "source": [
      "\n",
      "\n",
      "\n"
     ]
    },
    {
     "cell_type": "code",
     "collapsed": false,
     "input": [
      "import matplotlib.pyplot as pyplot\n",
      "pyplot.pie([1,2,5])\n",
      "pyplot.show()"
     ],
     "language": "python",
     "metadata": {},
     "outputs": [
      {
       "metadata": {},
       "output_type": "display_data",
       "png": "[encoded data removed]",
       "text": [
        "<matplotlib.figure.Figure at 0x2ccfa90>"
       ]
      }
     ],
     "prompt_number": 5
    },
    {
     "cell_type": "markdown",
     "metadata": {},
     "source": [
      "\n",
      "\n",
      "\n"
     ]
    },
    {
     "cell_type": "markdown",
     "metadata": {},
     "source": [
      "<p>If you have <code>matplotlib</code> you should see a simple pie chart; otherwise, you will have to install it.</p>"
     ]
    },
    {
     "cell_type": "markdown",
     "metadata": {},
     "source": [
      "\n",
      "\n"
     ]
    },
    {
     "cell_type": "markdown",
     "metadata": {},
     "source": [
      "<p>Histograms and PMFs are most often plotted as bar charts. The <code>pyplot</code> function to draw a bar chart is <code>bar</code>. Hist objects provide a method called <code>Render</code> that returns a sorted list of values and a list of the corresponding frequencies, which is the format <code>bar</code> expects:</p>"
     ]
    },
    {
     "cell_type": "markdown",
     "metadata": {},
     "source": [
      "\n",
      "\n",
      "\n"
     ]
    },
    {
     "cell_type": "code",
     "collapsed": false,
     "input": [
      "&gt;&gt;&gt; vals, freqs = hist.Render()\n",
      "&gt;&gt;&gt; rectangles = pyplot.bar(vals, freqs)\n",
      "&gt;&gt;&gt; pyplot.show()"
     ],
     "language": "python",
     "metadata": {},
     "outputs": []
    },
    {
     "cell_type": "markdown",
     "metadata": {},
     "source": [
      "\n",
      "\n",
      "\n"
     ]
    },
    {
     "cell_type": "markdown",
     "metadata": {},
     "source": [
      "<p>I wrote a module called <code>myplot.py</code> that provides functions for plotting histograms, PMFs, and other objects we will see soon. You can read the documentation at <code>thinkstats.com/myplot.html</code> and download the code from <code>thinkstats.com/myplot.py</code>. Or you can use <code>pyplot</code> directly, if you prefer. Either way, you can find the documentation for <code>pyplot</code> on the web.</p>"
     ]
    },
    {
     "cell_type": "markdown",
     "metadata": {},
     "source": [
      "\n",
      "\n"
     ]
    },
    {
     "cell_type": "markdown",
     "metadata": {},
     "source": [
      "<p><a data-type=\"xref\" href=\"#nsfg_hist\">Figure\u00a02-1</a> shows histograms of pregnancy lengths for first babies and others.</p>"
     ]
    },
    {
     "cell_type": "markdown",
     "metadata": {},
     "source": [
      "\n",
      "\n"
     ]
    },
    {
     "cell_type": "markdown",
     "metadata": {},
     "source": [
      "<figure id=\"nsfg_hist\"><img src=\"files/figs/web/thst_0201.png\" alt=\"thst 0201\"><figcaption>Histogram of pregnancy lengths</figcaption></figure>"
     ]
    },
    {
     "cell_type": "markdown",
     "metadata": {},
     "source": [
      "<p>Histograms are useful because they make the following features immediately apparent:</p>"
     ]
    },
    {
     "cell_type": "markdown",
     "metadata": {},
     "source": [
      "\n"
     ]
    },
    {
     "cell_type": "markdown",
     "metadata": {},
     "source": [
      "<dl>\n",
      "<dt>Mode</dt>\n",
      "<dd>\n",
      "<p>The most common value in a distribution is called the <em>mode</em>. In <a data-type=\"xref\" href=\"#nsfg_hist\">Figure\u00a02-1</a>, there is a clear mode at 39 weeks. In this case, the mode is the summary statistic that does the best job of describing the typical value.</p>\n",
      "</dd>\n",
      "<dt>Shape</dt>\n",
      "<dd>\n",
      "<p>Around the mode, the distribution is asymmetric; it drops off quickly to the right and more slowly to the left. From a medical point of view, this makes sense. Babies are often born early, but seldom later than 42 weeks. Also, the right side of the distribution is truncated because doctors often intervene after 42 weeks.</p>\n",
      "</dd>\n",
      "<dt>Outliers</dt>\n",
      "<dd>\n",
      "<p>Values far from the mode are called <em>outliers</em>. Some of these are just unusual cases, like babies born at 30 weeks. But many of them are probably due to errors, either in the reporting or recording of data.</p>\n",
      "</dd>\n",
      "</dl>\n"
     ]
    },
    {
     "cell_type": "markdown",
     "metadata": {},
     "source": [
      "<p>Although histograms make some features apparent, they are usually not useful for comparing two distributions. In this example, there are fewer \u201cfirst babies\u201d than \u201cothers,\u201d so some of the apparent differences in the histograms are due to sample sizes. We can address this problem using PMFs.</p>"
     ]
    },
    {
     "cell_type": "markdown",
     "metadata": {},
     "source": [
      "\n",
      "\n"
     ]
    },
    {
     "cell_type": "markdown",
     "metadata": {},
     "source": [
      "<p>=== Representing PMFs</p>"
     ]
    },
    {
     "cell_type": "markdown",
     "metadata": {},
     "source": [
      "\n",
      "\n"
     ]
    },
    {
     "cell_type": "markdown",
     "metadata": {},
     "source": [
      "<p><code>Pmf.py</code> provides a class called <code>Pmf</code> that represents PMFs. The notation can be confusing, but here it is: <code>Pmf</code> is the name of the module and also the class, so the full name of the class is <code>Pmf.Pmf</code>. I often use <code>pmf</code> as a variable name. Finally, in the text, I use PMF to refer to the general concept of a probability mass function, independent of my implementation.</p>"
     ]
    },
    {
     "cell_type": "markdown",
     "metadata": {},
     "source": [
      "\n",
      "\n"
     ]
    },
    {
     "cell_type": "markdown",
     "metadata": {},
     "source": [
      "<p>To create a Pmf object, use <code>MakePmfFromList</code>, which takes a list of values:</p>"
     ]
    },
    {
     "cell_type": "markdown",
     "metadata": {},
     "source": [
      "\n",
      "\n",
      "\n"
     ]
    },
    {
     "cell_type": "code",
     "collapsed": false,
     "input": [
      "&gt;&gt;&gt; import Pmf\n",
      "&gt;&gt;&gt; pmf = Pmf.MakePmfFromList([1, 2, 2, 3, 5])\n",
      "&gt;&gt;&gt; print pmf\n",
      "&lt;Pmf.Pmf object at 0xb76cf68c&gt;"
     ],
     "language": "python",
     "metadata": {},
     "outputs": []
    },
    {
     "cell_type": "markdown",
     "metadata": {},
     "source": [
      "\n",
      "\n",
      "\n"
     ]
    },
    {
     "cell_type": "markdown",
     "metadata": {},
     "source": [
      "<p>Pmf and Hist objects are similar in many ways. The methods <code>Values</code> and <code>Items</code> work the same way for both types. The biggest difference is that a Hist maps from values to integer counters; a Pmf maps from values to floating-point probabilities.</p>"
     ]
    },
    {
     "cell_type": "markdown",
     "metadata": {},
     "source": [
      "\n",
      "\n"
     ]
    },
    {
     "cell_type": "markdown",
     "metadata": {},
     "source": [
      "<p>To look up the probability associated with a value, use <code>Prob</code>:</p>"
     ]
    },
    {
     "cell_type": "markdown",
     "metadata": {},
     "source": [
      "\n",
      "\n",
      "\n"
     ]
    },
    {
     "cell_type": "code",
     "collapsed": false,
     "input": [
      "&gt;&gt;&gt; pmf.Prob(2)\n",
      "0.4"
     ],
     "language": "python",
     "metadata": {},
     "outputs": []
    },
    {
     "cell_type": "markdown",
     "metadata": {},
     "source": [
      "\n",
      "\n",
      "\n"
     ]
    },
    {
     "cell_type": "markdown",
     "metadata": {},
     "source": [
      "<p>You can modify an existing Pmf by incrementing the probability associated with a value:</p>"
     ]
    },
    {
     "cell_type": "markdown",
     "metadata": {},
     "source": [
      "\n",
      "\n",
      "\n"
     ]
    },
    {
     "cell_type": "code",
     "collapsed": false,
     "input": [
      "&gt;&gt;&gt; pmf.Incr(2, 0.2)\n",
      "&gt;&gt;&gt; pmf.Prob(2)\n",
      "0.6"
     ],
     "language": "python",
     "metadata": {},
     "outputs": []
    },
    {
     "cell_type": "markdown",
     "metadata": {},
     "source": [
      "\n",
      "\n",
      "\n"
     ]
    },
    {
     "cell_type": "markdown",
     "metadata": {},
     "source": [
      "<p>Or you can multiple a probability by a factor:</p>"
     ]
    },
    {
     "cell_type": "markdown",
     "metadata": {},
     "source": [
      "\n",
      "\n",
      "\n"
     ]
    },
    {
     "cell_type": "code",
     "collapsed": false,
     "input": [
      "&gt;&gt;&gt; pmf.Mult(2, 0.5)\n",
      "&gt;&gt;&gt; pmf.Prob(2)\n",
      "0.3"
     ],
     "language": "python",
     "metadata": {},
     "outputs": []
    },
    {
     "cell_type": "markdown",
     "metadata": {},
     "source": [
      "\n",
      "\n",
      "\n"
     ]
    },
    {
     "cell_type": "markdown",
     "metadata": {},
     "source": [
      "<p>If you modify a Pmf, the result may not be normalized; that is, the probabilities may no longer add up to 1. To check, you can call <code>Total</code>, which returns the sum of the probabilities:</p>"
     ]
    },
    {
     "cell_type": "markdown",
     "metadata": {},
     "source": [
      "\n",
      "\n",
      "\n"
     ]
    },
    {
     "cell_type": "code",
     "collapsed": false,
     "input": [
      "&gt;&gt;&gt; pmf.Total()\n",
      "0.9"
     ],
     "language": "python",
     "metadata": {},
     "outputs": []
    },
    {
     "cell_type": "markdown",
     "metadata": {},
     "source": [
      "\n",
      "\n",
      "\n"
     ]
    },
    {
     "cell_type": "markdown",
     "metadata": {},
     "source": [
      "<p>To renormalize, call <code>Normalize</code>:</p>"
     ]
    },
    {
     "cell_type": "markdown",
     "metadata": {},
     "source": [
      "\n",
      "\n",
      "\n"
     ]
    },
    {
     "cell_type": "code",
     "collapsed": false,
     "input": [
      "&gt;&gt;&gt; pmf.Normalize()\n",
      "&gt;&gt;&gt; pmf.Total()\n",
      "1.0"
     ],
     "language": "python",
     "metadata": {},
     "outputs": []
    },
    {
     "cell_type": "markdown",
     "metadata": {},
     "source": [
      "\n",
      "\n",
      "\n"
     ]
    },
    {
     "cell_type": "markdown",
     "metadata": {},
     "source": [
      "<p>Pmf objects provide a <code>Copy</code> method so you can make and and modify a copy without affecting the original.</p>"
     ]
    },
    {
     "cell_type": "markdown",
     "metadata": {},
     "source": [
      "\n",
      "\n"
     ]
    },
    {
     "cell_type": "markdown",
     "metadata": {},
     "source": [
      "<p>.</p>"
     ]
    },
    {
     "cell_type": "markdown",
     "metadata": {},
     "source": [
      "\n",
      "\n"
     ]
    },
    {
     "cell_type": "markdown",
     "metadata": {},
     "source": [
      "<p>.</p>"
     ]
    },
    {
     "cell_type": "markdown",
     "metadata": {},
     "source": [
      "\n"
     ]
    },
    {
     "cell_type": "markdown",
     "metadata": {},
     "source": [
      "\n"
     ]
    },
    {
     "cell_type": "heading",
     "level": 3,
     "metadata": {},
     "source": []
    },
    {
     "cell_type": "markdown",
     "metadata": {},
     "source": [
      "\n",
      "\n"
     ]
    },
    {
     "cell_type": "markdown",
     "metadata": {},
     "source": [
      "<p>=== Plotting PMFs</p>"
     ]
    },
    {
     "cell_type": "markdown",
     "metadata": {},
     "source": [
      "\n",
      "\n"
     ]
    },
    {
     "cell_type": "markdown",
     "metadata": {},
     "source": [
      "<p>There are two common ways to plot Pmfs:</p>"
     ]
    },
    {
     "cell_type": "markdown",
     "metadata": {},
     "source": [
      "\n"
     ]
    },
    {
     "cell_type": "markdown",
     "metadata": {},
     "source": [
      "<ul>\n",
      "<li>\n",
      "<p>To plot a Pmf as a bar graph, you can use <code>pyplot.bar</code> or <code>myplot.Hist</code>. Bar graphs are most useful if the number of values in the Pmf is small.</p>\n",
      "</li>\n",
      "<li>\n",
      "<p>To plot a Pmf as a line, you can use <code>pyplot.plot</code> or <code>myplot.Pmf</code>. Line plots are most useful if there are a large number of values and the Pmf is smooth.</p>\n",
      "</li>\n",
      "</ul>\n"
     ]
    },
    {
     "cell_type": "markdown",
     "metadata": {},
     "source": [
      "<p><a data-type=\"xref\" href=\"#nsfg_pmf\">Figure\u00a02-2</a> shows the PMF of pregnancy lengths as a bar graph. Using the PMF, we can see more clearly where the distributions differ. First babies seem to be less likely to arrive on time (week 39) and more likely to be late (weeks 41 and 42).</p>"
     ]
    },
    {
     "cell_type": "markdown",
     "metadata": {},
     "source": [
      "\n",
      "\n"
     ]
    },
    {
     "cell_type": "markdown",
     "metadata": {},
     "source": [
      "<figure id=\"nsfg_pmf\"><img src=\"files/figs/web/thst_0202.png\" alt=\"thst 0202\"><figcaption>PMF of pregnancy lengths</figcaption></figure>"
     ]
    },
    {
     "cell_type": "markdown",
     "metadata": {},
     "source": [
      "<p>The code that generates the figures in this chapters is available from <a href=\"http://thinkstats.com/descriptive.py\">http://thinkstats.com/descriptive.py</a>. To run it, you will need the modules it imports and the data from the NSFG (see <a data-type=\"xref\" href=\"ch01.html#nsfg\">\u201cThe National Survey of Family Growth\u201d</a>).</p>"
     ]
    },
    {
     "cell_type": "markdown",
     "metadata": {},
     "source": [
      "\n",
      "\n"
     ]
    },
    {
     "cell_type": "markdown",
     "metadata": {},
     "source": [
      "<p>Note: <code>pyplot</code> provides a function called <code>hist</code> that takes a sequence of values, computes the histogram, and plots it. Since I use <code>Hist</code> objects, I usually don\u2019t use <code>pyplot.hist</code>.</p>"
     ]
    },
    {
     "cell_type": "markdown",
     "metadata": {},
     "source": [
      "\n",
      "\n"
     ]
    },
    {
     "cell_type": "markdown",
     "metadata": {},
     "source": [
      "<p>=== Outliers</p>"
     ]
    },
    {
     "cell_type": "markdown",
     "metadata": {},
     "source": [
      "\n",
      "\n"
     ]
    },
    {
     "cell_type": "markdown",
     "metadata": {},
     "source": [
      "<p>Outliers are values that are far from the central tendency. Outliers might be caused by errors in collecting or processing the data, or they might be correct but unusual measurements. It is always a good idea to check for outliers, and sometimes it is useful and appropriate to discard them.</p>"
     ]
    },
    {
     "cell_type": "markdown",
     "metadata": {},
     "source": [
      "\n",
      "\n"
     ]
    },
    {
     "cell_type": "markdown",
     "metadata": {},
     "source": [
      "<p>In the list of pregnancy lengths for live births, the ten lowest values are {0, 4, 9, 13, 17, 17, 18, 19, 20, 21}. Values below 20 weeks are certainly errors, and values higher than 30 weeks are probably legitimate. But values in between are hard to interpret.</p>"
     ]
    },
    {
     "cell_type": "markdown",
     "metadata": {},
     "source": [
      "\n",
      "\n"
     ]
    },
    {
     "cell_type": "markdown",
     "metadata": {},
     "source": [
      "<p>On the other end, the highest values are:</p>"
     ]
    },
    {
     "cell_type": "markdown",
     "metadata": {},
     "source": [
      "\n",
      "\n",
      "\n"
     ]
    },
    {
     "cell_type": "code",
     "collapsed": false,
     "input": [
      "weeks  count\n",
      "43     148\n",
      "44      46\n",
      "45      10\n",
      "46       1\n",
      "47       1\n",
      "48       7\n",
      "50       2"
     ],
     "language": "python",
     "metadata": {},
     "outputs": []
    },
    {
     "cell_type": "markdown",
     "metadata": {},
     "source": [
      "\n",
      "\n",
      "\n"
     ]
    },
    {
     "cell_type": "markdown",
     "metadata": {},
     "source": [
      "<p>Again, some values are almost certainly errors, but it is hard to know for sure. One option is to <em>trim</em> the data by discarding some fraction of the highest and lowest values (see <a href=\"http://wikipedia.org/wiki/Truncated_mean\">http://wikipedia.org/wiki/Truncated_mean</a>).</p>"
     ]
    },
    {
     "cell_type": "markdown",
     "metadata": {},
     "source": [
      "\n",
      "\n"
     ]
    },
    {
     "cell_type": "markdown",
     "metadata": {},
     "source": [
      "<p>=== Other Visualizations</p>"
     ]
    },
    {
     "cell_type": "markdown",
     "metadata": {},
     "source": [
      "\n",
      "\n"
     ]
    },
    {
     "cell_type": "markdown",
     "metadata": {},
     "source": [
      "<p>Histograms and PMFs are useful for exploratory data analysis; once you have an idea of what is going on, it is often useful to design a visualization that focuses on the apparent effect.</p>"
     ]
    },
    {
     "cell_type": "markdown",
     "metadata": {},
     "source": [
      "\n",
      "\n"
     ]
    },
    {
     "cell_type": "markdown",
     "metadata": {},
     "source": [
      "<p>In the NSFG data, the biggest differences in the distributions are near the mode. So it makes sense to zoom in on that part of the graph, and to transform the data to emphasize differences.</p>"
     ]
    },
    {
     "cell_type": "markdown",
     "metadata": {},
     "source": [
      "\n",
      "\n"
     ]
    },
    {
     "cell_type": "markdown",
     "metadata": {},
     "source": [
      "<p><a data-type=\"xref\" href=\"#nsfg_diffs\">Figure\u00a02-3</a> shows the difference between the PMFs for weeks 35\u201345. I multiplied by 100 to express the differences in percentage points.</p>"
     ]
    },
    {
     "cell_type": "markdown",
     "metadata": {},
     "source": [
      "\n",
      "\n"
     ]
    },
    {
     "cell_type": "markdown",
     "metadata": {},
     "source": [
      "<figure id=\"nsfg_diffs\"><img src=\"files/figs/web/thst_0203.png\" alt=\"thst 0203\"><figcaption>Difference in percentage, by week</figcaption></figure>"
     ]
    },
    {
     "cell_type": "markdown",
     "metadata": {},
     "source": [
      "<p>This figure makes the pattern clearer: first babies are less likely to be born in week 39, and somewhat more likely to be born in weeks 41 and 42.</p>"
     ]
    },
    {
     "cell_type": "markdown",
     "metadata": {},
     "source": [
      "\n",
      "\n"
     ]
    },
    {
     "cell_type": "markdown",
     "metadata": {},
     "source": [
      "<p>=== Relative Risk</p>"
     ]
    },
    {
     "cell_type": "markdown",
     "metadata": {},
     "source": [
      "\n",
      "\n"
     ]
    },
    {
     "cell_type": "markdown",
     "metadata": {},
     "source": [
      "<p>We started with the question, \u201cDo first babies arrive late?\u201d To make that more precise, let\u2019s say that a baby is early if it is born during Week 37 or earlier, on time if it is born during Week 38, 39, or 40, and late if it is born during Week 41 or later. Ranges like these that are used to group data are called <em>bins</em>.</p>"
     ]
    },
    {
     "cell_type": "markdown",
     "metadata": {},
     "source": [
      "\n",
      "\n"
     ]
    },
    {
     "cell_type": "markdown",
     "metadata": {},
     "source": [
      "<p>.</p>"
     ]
    },
    {
     "cell_type": "markdown",
     "metadata": {},
     "source": [
      "\n"
     ]
    },
    {
     "cell_type": "heading",
     "level": 2,
     "metadata": {},
     "source": [
      "Conditional Probability"
     ]
    },
    {
     "cell_type": "markdown",
     "metadata": {},
     "source": [
      "\n",
      "\n"
     ]
    },
    {
     "cell_type": "markdown",
     "metadata": {},
     "source": [
      "<p>Imagine that someone you know is pregnant, and it is the beginning of Week 39. What is the chance that the baby will be born in the next week? How much does the answer change if it\u2019s a first baby?</p>"
     ]
    },
    {
     "cell_type": "markdown",
     "metadata": {},
     "source": [
      "\n",
      "\n"
     ]
    },
    {
     "cell_type": "markdown",
     "metadata": {},
     "source": [
      "<p>We can answer these questions by computing a <em>conditional probability</em>, which is (ahem!) a probability that depends on a condition. In this case, the condition is that we know the baby didn\u2019t arrive during Weeks 0\u201338.</p>"
     ]
    },
    {
     "cell_type": "markdown",
     "metadata": {},
     "source": [
      "\n",
      "\n"
     ]
    },
    {
     "cell_type": "markdown",
     "metadata": {},
     "source": [
      "<p>Here\u2019s one way to do it:</p>"
     ]
    },
    {
     "cell_type": "markdown",
     "metadata": {},
     "source": [
      "\n"
     ]
    },
    {
     "cell_type": "markdown",
     "metadata": {},
     "source": [
      "<ol>\n",
      "<li>\n",
      "<p>Given a PMF, generate a fake cohort of 1,000 pregnancies. For each number of weeks, <em>x</em>, the number of pregnancies with duration <em>x</em>\u00a0is 1,000 PMF(<em>x</em>).</p>\n",
      "</li>\n",
      "<li>\n",
      "<p>Remove from the cohort all pregnancies with length less than 39.</p>\n",
      "</li>\n",
      "<li>\n",
      "<p>Compute the PMF of the remaining durations; the result is the conditional PMF.</p>\n",
      "</li>\n",
      "<li>\n",
      "<p>Evaluate the conditional PMF at <em>x</em>\u00a0=\u00a039 weeks.</p>\n",
      "</li>\n",
      "\n",
      "</ol>\n"
     ]
    },
    {
     "cell_type": "markdown",
     "metadata": {},
     "source": [
      "<p>This algorithm is conceptually clear, but not very efficient. A simple alternative is to remove from the distribution the values less than 39 and then renormalize.</p>"
     ]
    },
    {
     "cell_type": "markdown",
     "metadata": {},
     "source": [
      "\n",
      "\n"
     ]
    },
    {
     "cell_type": "markdown",
     "metadata": {},
     "source": [
      "<p>.</p>"
     ]
    },
    {
     "cell_type": "markdown",
     "metadata": {},
     "source": [
      "\n"
     ]
    },
    {
     "cell_type": "markdown",
     "metadata": {},
     "source": [
      "\n"
     ]
    },
    {
     "cell_type": "heading",
     "level": 3,
     "metadata": {},
     "source": []
    },
    {
     "cell_type": "markdown",
     "metadata": {},
     "source": [
      "\n",
      "\n"
     ]
    },
    {
     "cell_type": "markdown",
     "metadata": {},
     "source": [
      "<p>=== Reporting Results</p>"
     ]
    },
    {
     "cell_type": "markdown",
     "metadata": {},
     "source": [
      "\n",
      "\n"
     ]
    },
    {
     "cell_type": "markdown",
     "metadata": {},
     "source": [
      "<p>At this point, we have explored the data and seen several apparent effects. For now, let\u2019s assume that these effects are real (but let\u2019s remember that it\u2019s an assumption). How should we report these results?</p>"
     ]
    },
    {
     "cell_type": "markdown",
     "metadata": {},
     "source": [
      "\n",
      "\n"
     ]
    },
    {
     "cell_type": "markdown",
     "metadata": {},
     "source": [
      "<p>The answer might depend on who is asking the question. For example, a scientist might be interested in any (real) effect, no matter how small. A doctor might only care about effects that are <em>clinically significant</em>; that is, differences that affect treatment decisions. A pregnant woman might be interested in results that are relevant to her, like the conditional probabilities in the previous section.</p>"
     ]
    },
    {
     "cell_type": "markdown",
     "metadata": {},
     "source": [
      "\n",
      "\n"
     ]
    },
    {
     "cell_type": "markdown",
     "metadata": {},
     "source": [
      "<p>How you report results also depends on your goals. If you are trying to demonstrate the significance of an effect, you might choose summary statistics, like relative risk, that emphasize differences. If you are trying to reassure a patient, you might choose statistics that put the differences in context.</p>"
     ]
    },
    {
     "cell_type": "markdown",
     "metadata": {},
     "source": [
      "\n",
      "\n"
     ]
    },
    {
     "cell_type": "markdown",
     "metadata": {},
     "source": [
      "<p>.</p>"
     ]
    },
    {
     "cell_type": "markdown",
     "metadata": {},
     "source": [
      "\n"
     ]
    },
    {
     "cell_type": "heading",
     "level": 2,
     "metadata": {},
     "source": [
      "Glossary"
     ]
    },
    {
     "cell_type": "markdown",
     "metadata": {},
     "source": [
      "\n"
     ]
    },
    {
     "cell_type": "markdown",
     "metadata": {},
     "source": [
      "<dl>\n",
      "<dt>bin</dt>\n",
      "<dd>\n",
      "<p>A range used to group nearby values.</p>\n",
      "</dd>\n",
      "<dt>central tendency</dt>\n",
      "<dd>\n",
      "<p>A characteristic of a sample or population; intuitively, it is the most average value.</p>\n",
      "</dd>\n",
      "<dt>clinically significant</dt>\n",
      "<dd>\n",
      "<p>A result, like a difference between groups, that is relevant in practice.</p>\n",
      "</dd>\n",
      "<dt>conditional probability</dt>\n",
      "<dd>\n",
      "<p>A probability computed under the assumption that some condition holds.</p>\n",
      "</dd>\n",
      "<dt>distribution</dt>\n",
      "<dd>\n",
      "<p>A summary of the values that appear in a sample and the frequency, or probability, of each.</p>\n",
      "</dd>\n",
      "<dt>frequency</dt>\n",
      "<dd>\n",
      "<p>The number of times a value appears in a sample.</p>\n",
      "</dd>\n",
      "<dt>histogram</dt>\n",
      "<dd>\n",
      "<p>A mapping from values to frequencies, or a graph that shows this mapping.</p>\n",
      "</dd>\n",
      "<dt>mode</dt>\n",
      "<dd>\n",
      "<p>The most frequent value in a sample.</p>\n",
      "</dd>\n",
      "<dt>normalization</dt>\n",
      "<dd>\n",
      "<p>The process of dividing a frequency by a sample size to get a probability.</p>\n",
      "</dd>\n",
      "<dt>outlier</dt>\n",
      "<dd>\n",
      "<p>A value far from the central tendency.</p>\n",
      "</dd>\n",
      "<dt>probability</dt>\n",
      "<dd>\n",
      "<p>A frequency expressed as a fraction of the sample size.</p>\n",
      "</dd>\n",
      "<dt>probability mass function (PMF)</dt>\n",
      "<dd>\n",
      "<p>A representation of a distribution as a function that maps from values to probabilities.</p>\n",
      "</dd>\n",
      "<dt>relative risk</dt>\n",
      "<dd>\n",
      "<p>A ratio of two probabilities, often used to measure a difference between distributions.</p>\n",
      "</dd>\n",
      "<dt>spread</dt>\n",
      "<dd>\n",
      "<p>A characteristic of a sample or population; intuitively, it describes how much variability there is.</p>\n",
      "</dd>\n",
      "<dt>standard deviation</dt>\n",
      "<dd>\n",
      "<p>The square root of variance, also used as a measure of spread.</p>\n",
      "</dd>\n",
      "<dt>trim</dt>\n",
      "<dd>\n",
      "<p>To remove outliers from a dataset.</p>\n",
      "</dd>\n",
      "<dt>variance</dt>\n",
      "<dd>\n",
      "<p>A summary statistic often used to quantify spread.</p>\n",
      "</dd>\n",
      "</dl>"
     ]
    }
   ],
   "metadata": {}
  }
 ]
}